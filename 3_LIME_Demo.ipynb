{
 "cells": [
  {
   "cell_type": "code",
   "execution_count": 1,
   "metadata": {},
   "outputs": [],
   "source": [
    "import pandas as pd\n",
    "import numpy as np\n",
    "import re"
   ]
  },
  {
   "cell_type": "code",
   "execution_count": 2,
   "metadata": {},
   "outputs": [],
   "source": [
    "big_stack = pd.read_csv('data/clean_stackoverflow_big.csv')"
   ]
  },
  {
   "cell_type": "code",
   "execution_count": 3,
   "metadata": {},
   "outputs": [
    {
     "data": {
      "text/html": [
       "<div>\n",
       "<style scoped>\n",
       "    .dataframe tbody tr th:only-of-type {\n",
       "        vertical-align: middle;\n",
       "    }\n",
       "\n",
       "    .dataframe tbody tr th {\n",
       "        vertical-align: top;\n",
       "    }\n",
       "\n",
       "    .dataframe thead th {\n",
       "        text-align: right;\n",
       "    }\n",
       "</style>\n",
       "<table border=\"1\" class=\"dataframe\">\n",
       "  <thead>\n",
       "    <tr style=\"text-align: right;\">\n",
       "      <th></th>\n",
       "      <th>question</th>\n",
       "      <th>summary</th>\n",
       "      <th>tags</th>\n",
       "      <th>user_id</th>\n",
       "      <th>no_of_votes</th>\n",
       "      <th>no_of_answers</th>\n",
       "      <th>date</th>\n",
       "    </tr>\n",
       "  </thead>\n",
       "  <tbody>\n",
       "    <tr>\n",
       "      <th>0</th>\n",
       "      <td>multiple json objects into a list</td>\n",
       "      <td>{\"Id\": 1,\"product\": \"Mobile\",\"price\": 32889,\"d...</td>\n",
       "      <td>['python', 'json']</td>\n",
       "      <td>diveinsky</td>\n",
       "      <td>0.0</td>\n",
       "      <td>1.0</td>\n",
       "      <td>2019-08-02</td>\n",
       "    </tr>\n",
       "    <tr>\n",
       "      <th>1</th>\n",
       "      <td>How to implement like button concept in viewpa...</td>\n",
       "      <td>I have a viewpager which displays images and b...</td>\n",
       "      <td>['android', 'android-viewpager']</td>\n",
       "      <td>Marat Zangiev</td>\n",
       "      <td>1.0</td>\n",
       "      <td>1.0</td>\n",
       "      <td>2019-08-02</td>\n",
       "    </tr>\n",
       "    <tr>\n",
       "      <th>2</th>\n",
       "      <td>Is it a good practice using Observable with as...</td>\n",
       "      <td>I am using angular 2 common http that return a...</td>\n",
       "      <td>['javascript', 'angular', 'typescript', 'promi...</td>\n",
       "      <td>Ashwin J Chhetri</td>\n",
       "      <td>48.0</td>\n",
       "      <td>2.0</td>\n",
       "      <td>2019-08-02</td>\n",
       "    </tr>\n",
       "    <tr>\n",
       "      <th>3</th>\n",
       "      <td>UBSan: Store to misaligned address; what is th...</td>\n",
       "      <td>I've been running some code under UBSan, and f...</td>\n",
       "      <td>['ubsan']</td>\n",
       "      <td>Flamefire</td>\n",
       "      <td>0.0</td>\n",
       "      <td>1.0</td>\n",
       "      <td>2019-08-02</td>\n",
       "    </tr>\n",
       "    <tr>\n",
       "      <th>4</th>\n",
       "      <td>Django-Filter Form Displaying All Filters?</td>\n",
       "      <td>I've just started working with Django Filter. ...</td>\n",
       "      <td>['django-filter', 'django-filters']</td>\n",
       "      <td>udeep shrestha</td>\n",
       "      <td>0.0</td>\n",
       "      <td>2.0</td>\n",
       "      <td>2019-08-02</td>\n",
       "    </tr>\n",
       "  </tbody>\n",
       "</table>\n",
       "</div>"
      ],
      "text/plain": [
       "                                            question  \\\n",
       "0                  multiple json objects into a list   \n",
       "1  How to implement like button concept in viewpa...   \n",
       "2  Is it a good practice using Observable with as...   \n",
       "3  UBSan: Store to misaligned address; what is th...   \n",
       "4         Django-Filter Form Displaying All Filters?   \n",
       "\n",
       "                                             summary  \\\n",
       "0  {\"Id\": 1,\"product\": \"Mobile\",\"price\": 32889,\"d...   \n",
       "1  I have a viewpager which displays images and b...   \n",
       "2  I am using angular 2 common http that return a...   \n",
       "3  I've been running some code under UBSan, and f...   \n",
       "4  I've just started working with Django Filter. ...   \n",
       "\n",
       "                                                tags           user_id  \\\n",
       "0                                 ['python', 'json']         diveinsky   \n",
       "1                   ['android', 'android-viewpager']     Marat Zangiev   \n",
       "2  ['javascript', 'angular', 'typescript', 'promi...  Ashwin J Chhetri   \n",
       "3                                          ['ubsan']         Flamefire   \n",
       "4                ['django-filter', 'django-filters']    udeep shrestha   \n",
       "\n",
       "   no_of_votes  no_of_answers        date  \n",
       "0          0.0            1.0  2019-08-02  \n",
       "1          1.0            1.0  2019-08-02  \n",
       "2         48.0            2.0  2019-08-02  \n",
       "3          0.0            1.0  2019-08-02  \n",
       "4          0.0            2.0  2019-08-02  "
      ]
     },
     "execution_count": 3,
     "metadata": {},
     "output_type": "execute_result"
    }
   ],
   "source": [
    "big_stack.head()"
   ]
  },
  {
   "cell_type": "code",
   "execution_count": 4,
   "metadata": {},
   "outputs": [
    {
     "data": {
      "text/plain": [
       "(16955385, 7)"
      ]
     },
     "execution_count": 4,
     "metadata": {},
     "output_type": "execute_result"
    }
   ],
   "source": [
    "big_stack.shape"
   ]
  },
  {
   "cell_type": "code",
   "execution_count": 5,
   "metadata": {},
   "outputs": [
    {
     "data": {
      "text/plain": [
       "question            0\n",
       "summary             2\n",
       "tags                0\n",
       "user_id          1235\n",
       "no_of_votes       594\n",
       "no_of_answers     594\n",
       "date             1236\n",
       "dtype: int64"
      ]
     },
     "execution_count": 5,
     "metadata": {},
     "output_type": "execute_result"
    }
   ],
   "source": [
    "big_stack.isna().sum()"
   ]
  },
  {
   "cell_type": "code",
   "execution_count": 6,
   "metadata": {},
   "outputs": [],
   "source": [
    "big_stack = big_stack.dropna()"
   ]
  },
  {
   "cell_type": "code",
   "execution_count": 7,
   "metadata": {},
   "outputs": [],
   "source": [
    "# Defining the Target - Has the question been answered?\n",
    "\n",
    "big_stack['answers'] = (big_stack['no_of_answers'] >= 1).astype(int)"
   ]
  },
  {
   "cell_type": "code",
   "execution_count": 8,
   "metadata": {},
   "outputs": [
    {
     "data": {
      "text/html": [
       "<div>\n",
       "<style scoped>\n",
       "    .dataframe tbody tr th:only-of-type {\n",
       "        vertical-align: middle;\n",
       "    }\n",
       "\n",
       "    .dataframe tbody tr th {\n",
       "        vertical-align: top;\n",
       "    }\n",
       "\n",
       "    .dataframe thead th {\n",
       "        text-align: right;\n",
       "    }\n",
       "</style>\n",
       "<table border=\"1\" class=\"dataframe\">\n",
       "  <thead>\n",
       "    <tr style=\"text-align: right;\">\n",
       "      <th></th>\n",
       "      <th>question</th>\n",
       "      <th>summary</th>\n",
       "      <th>tags</th>\n",
       "      <th>user_id</th>\n",
       "      <th>no_of_votes</th>\n",
       "      <th>no_of_answers</th>\n",
       "      <th>date</th>\n",
       "      <th>answers</th>\n",
       "    </tr>\n",
       "  </thead>\n",
       "  <tbody>\n",
       "    <tr>\n",
       "      <th>0</th>\n",
       "      <td>multiple json objects into a list</td>\n",
       "      <td>{\"Id\": 1,\"product\": \"Mobile\",\"price\": 32889,\"d...</td>\n",
       "      <td>['python', 'json']</td>\n",
       "      <td>diveinsky</td>\n",
       "      <td>0.0</td>\n",
       "      <td>1.0</td>\n",
       "      <td>2019-08-02</td>\n",
       "      <td>1</td>\n",
       "    </tr>\n",
       "    <tr>\n",
       "      <th>1</th>\n",
       "      <td>How to implement like button concept in viewpa...</td>\n",
       "      <td>I have a viewpager which displays images and b...</td>\n",
       "      <td>['android', 'android-viewpager']</td>\n",
       "      <td>Marat Zangiev</td>\n",
       "      <td>1.0</td>\n",
       "      <td>1.0</td>\n",
       "      <td>2019-08-02</td>\n",
       "      <td>1</td>\n",
       "    </tr>\n",
       "    <tr>\n",
       "      <th>2</th>\n",
       "      <td>Is it a good practice using Observable with as...</td>\n",
       "      <td>I am using angular 2 common http that return a...</td>\n",
       "      <td>['javascript', 'angular', 'typescript', 'promi...</td>\n",
       "      <td>Ashwin J Chhetri</td>\n",
       "      <td>48.0</td>\n",
       "      <td>2.0</td>\n",
       "      <td>2019-08-02</td>\n",
       "      <td>1</td>\n",
       "    </tr>\n",
       "    <tr>\n",
       "      <th>3</th>\n",
       "      <td>UBSan: Store to misaligned address; what is th...</td>\n",
       "      <td>I've been running some code under UBSan, and f...</td>\n",
       "      <td>['ubsan']</td>\n",
       "      <td>Flamefire</td>\n",
       "      <td>0.0</td>\n",
       "      <td>1.0</td>\n",
       "      <td>2019-08-02</td>\n",
       "      <td>1</td>\n",
       "    </tr>\n",
       "    <tr>\n",
       "      <th>4</th>\n",
       "      <td>Django-Filter Form Displaying All Filters?</td>\n",
       "      <td>I've just started working with Django Filter. ...</td>\n",
       "      <td>['django-filter', 'django-filters']</td>\n",
       "      <td>udeep shrestha</td>\n",
       "      <td>0.0</td>\n",
       "      <td>2.0</td>\n",
       "      <td>2019-08-02</td>\n",
       "      <td>1</td>\n",
       "    </tr>\n",
       "  </tbody>\n",
       "</table>\n",
       "</div>"
      ],
      "text/plain": [
       "                                            question  \\\n",
       "0                  multiple json objects into a list   \n",
       "1  How to implement like button concept in viewpa...   \n",
       "2  Is it a good practice using Observable with as...   \n",
       "3  UBSan: Store to misaligned address; what is th...   \n",
       "4         Django-Filter Form Displaying All Filters?   \n",
       "\n",
       "                                             summary  \\\n",
       "0  {\"Id\": 1,\"product\": \"Mobile\",\"price\": 32889,\"d...   \n",
       "1  I have a viewpager which displays images and b...   \n",
       "2  I am using angular 2 common http that return a...   \n",
       "3  I've been running some code under UBSan, and f...   \n",
       "4  I've just started working with Django Filter. ...   \n",
       "\n",
       "                                                tags           user_id  \\\n",
       "0                                 ['python', 'json']         diveinsky   \n",
       "1                   ['android', 'android-viewpager']     Marat Zangiev   \n",
       "2  ['javascript', 'angular', 'typescript', 'promi...  Ashwin J Chhetri   \n",
       "3                                          ['ubsan']         Flamefire   \n",
       "4                ['django-filter', 'django-filters']    udeep shrestha   \n",
       "\n",
       "   no_of_votes  no_of_answers        date  answers  \n",
       "0          0.0            1.0  2019-08-02        1  \n",
       "1          1.0            1.0  2019-08-02        1  \n",
       "2         48.0            2.0  2019-08-02        1  \n",
       "3          0.0            1.0  2019-08-02        1  \n",
       "4          0.0            2.0  2019-08-02        1  "
      ]
     },
     "execution_count": 8,
     "metadata": {},
     "output_type": "execute_result"
    }
   ],
   "source": [
    "big_stack.head()"
   ]
  },
  {
   "cell_type": "code",
   "execution_count": 9,
   "metadata": {},
   "outputs": [],
   "source": [
    "# Train Test Split"
   ]
  },
  {
   "cell_type": "code",
   "execution_count": 10,
   "metadata": {},
   "outputs": [],
   "source": [
    "from sklearn.model_selection import train_test_split"
   ]
  },
  {
   "cell_type": "code",
   "execution_count": 11,
   "metadata": {},
   "outputs": [
    {
     "data": {
      "text/plain": [
       "Index(['question', 'summary', 'tags', 'user_id', 'no_of_votes',\n",
       "       'no_of_answers', 'date', 'answers'],\n",
       "      dtype='object')"
      ]
     },
     "execution_count": 11,
     "metadata": {},
     "output_type": "execute_result"
    }
   ],
   "source": [
    "big_stack.columns"
   ]
  },
  {
   "cell_type": "code",
   "execution_count": 12,
   "metadata": {},
   "outputs": [],
   "source": [
    "X = big_stack.index\n",
    "\n",
    "train, test = train_test_split(X, test_size=0.25, random_state=101)"
   ]
  },
  {
   "cell_type": "code",
   "execution_count": 13,
   "metadata": {},
   "outputs": [],
   "source": [
    "big_stack.loc[train,'split'] = 'train' \n",
    "big_stack.loc[test,'split'] = 'test'"
   ]
  },
  {
   "cell_type": "code",
   "execution_count": 14,
   "metadata": {},
   "outputs": [],
   "source": [
    "# Model & Pipeline"
   ]
  },
  {
   "cell_type": "code",
   "execution_count": 15,
   "metadata": {},
   "outputs": [],
   "source": [
    "from sklearn.feature_extraction.text import TfidfVectorizer\n",
    "from sklearn.pipeline import Pipeline\n",
    "from sklearn.model_selection import train_test_split\n",
    "from sklearn.linear_model import LogisticRegression"
   ]
  },
  {
   "cell_type": "code",
   "execution_count": 16,
   "metadata": {},
   "outputs": [],
   "source": [
    "idx_train = big_stack['split'] == 'train'\n",
    "idx_test = big_stack['split'] == 'test'"
   ]
  },
  {
   "cell_type": "code",
   "execution_count": 17,
   "metadata": {},
   "outputs": [],
   "source": [
    "def tokenizer(text):\n",
    "    \n",
    "    found_tokens = re.findall(r'[a-z0-9]+', text.lower())\n",
    "    \n",
    "    tokens_list = [tokens for tokens in found_tokens if len(tokens) <= 15]\n",
    "    \n",
    "    return tokens_list"
   ]
  },
  {
   "cell_type": "code",
   "execution_count": 18,
   "metadata": {},
   "outputs": [],
   "source": [
    "X_train = big_stack.loc[idx_train, 'question'].values\n",
    "X_test = big_stack.loc[idx_test, 'question'].values\n",
    "\n",
    "y_train = big_stack.loc[idx_train, 'answers'].values\n",
    "y_test = big_stack.loc[idx_test, 'answers'].values"
   ]
  },
  {
   "cell_type": "code",
   "execution_count": 19,
   "metadata": {},
   "outputs": [],
   "source": [
    "pipeline = Pipeline(steps=[('vectorizer', TfidfVectorizer(tokenizer=tokenizer, stop_words = 'english')), \n",
    "                          ('logreg', LogisticRegression(class_weight = 'balanced'))])"
   ]
  },
  {
   "cell_type": "code",
   "execution_count": 20,
   "metadata": {
    "scrolled": false
   },
   "outputs": [
    {
     "name": "stderr",
     "output_type": "stream",
     "text": [
      "/Users/bkozissnik/anaconda3/lib/python3.7/site-packages/sklearn/linear_model/logistic.py:432: FutureWarning: Default solver will be changed to 'lbfgs' in 0.22. Specify a solver to silence this warning.\n",
      "  FutureWarning)\n"
     ]
    },
    {
     "name": "stdout",
     "output_type": "stream",
     "text": [
      "CPU times: user 20min 24s, sys: 36.1 s, total: 21min\n",
      "Wall time: 16min 42s\n"
     ]
    },
    {
     "data": {
      "text/plain": [
       "Pipeline(memory=None,\n",
       "         steps=[('vectorizer',\n",
       "                 TfidfVectorizer(analyzer='word', binary=False,\n",
       "                                 decode_error='strict',\n",
       "                                 dtype=<class 'numpy.float64'>,\n",
       "                                 encoding='utf-8', input='content',\n",
       "                                 lowercase=True, max_df=1.0, max_features=None,\n",
       "                                 min_df=1, ngram_range=(1, 1), norm='l2',\n",
       "                                 preprocessor=None, smooth_idf=True,\n",
       "                                 stop_words='english', strip_accents=None,\n",
       "                                 sublinear_tf=False,\n",
       "                                 token...\\\\w+\\\\b',\n",
       "                                 tokenizer=<function tokenizer at 0x16b994048>,\n",
       "                                 use_idf=True, vocabulary=None)),\n",
       "                ('logreg',\n",
       "                 LogisticRegression(C=1.0, class_weight='balanced', dual=False,\n",
       "                                    fit_intercept=True, intercept_scaling=1,\n",
       "                                    l1_ratio=None, max_iter=100,\n",
       "                                    multi_class='warn', n_jobs=None,\n",
       "                                    penalty='l2', random_state=None,\n",
       "                                    solver='warn', tol=0.0001, verbose=0,\n",
       "                                    warm_start=False))],\n",
       "         verbose=False)"
      ]
     },
     "execution_count": 20,
     "metadata": {},
     "output_type": "execute_result"
    }
   ],
   "source": [
    "%%time\n",
    "pipeline.fit(X_train, y_train)"
   ]
  },
  {
   "cell_type": "code",
   "execution_count": 21,
   "metadata": {},
   "outputs": [],
   "source": [
    "from sklearn.metrics import accuracy_score, confusion_matrix, classification_report"
   ]
  },
  {
   "cell_type": "code",
   "execution_count": 22,
   "metadata": {},
   "outputs": [
    {
     "name": "stdout",
     "output_type": "stream",
     "text": [
      "CPU times: user 1min 9s, sys: 4.96 s, total: 1min 14s\n",
      "Wall time: 1min 20s\n"
     ]
    }
   ],
   "source": [
    "%%time\n",
    "y_pred = pipeline.predict(X_test)"
   ]
  },
  {
   "cell_type": "code",
   "execution_count": 23,
   "metadata": {},
   "outputs": [
    {
     "data": {
      "text/plain": [
       "0.6212976272159025"
      ]
     },
     "execution_count": 23,
     "metadata": {},
     "output_type": "execute_result"
    }
   ],
   "source": [
    "accuracy_score(y_test, y_pred)"
   ]
  },
  {
   "cell_type": "code",
   "execution_count": 24,
   "metadata": {},
   "outputs": [
    {
     "data": {
      "text/plain": [
       "array([[ 408958,  248183],\n",
       "       [1356844, 2224243]])"
      ]
     },
     "execution_count": 24,
     "metadata": {},
     "output_type": "execute_result"
    }
   ],
   "source": [
    "confusion_matrix(y_test, y_pred)"
   ]
  },
  {
   "cell_type": "code",
   "execution_count": 25,
   "metadata": {},
   "outputs": [
    {
     "name": "stdout",
     "output_type": "stream",
     "text": [
      "              precision    recall  f1-score   support\n",
      "\n",
      "           0       0.23      0.62      0.34    657141\n",
      "           1       0.90      0.62      0.73   3581087\n",
      "\n",
      "    accuracy                           0.62   4238228\n",
      "   macro avg       0.57      0.62      0.54   4238228\n",
      "weighted avg       0.80      0.62      0.67   4238228\n",
      "\n"
     ]
    }
   ],
   "source": [
    "print(classification_report(y_test, y_pred))"
   ]
  },
  {
   "cell_type": "markdown",
   "metadata": {},
   "source": [
    "### Model Demo"
   ]
  },
  {
   "cell_type": "code",
   "execution_count": 26,
   "metadata": {},
   "outputs": [],
   "source": [
    "# Let's play and see whether our model can predict if a question we ask, is going to be answered"
   ]
  },
  {
   "cell_type": "code",
   "execution_count": 27,
   "metadata": {},
   "outputs": [],
   "source": [
    "from lime.lime_text import LimeTextExplainer\n",
    "import ipywidgets as widgets\n",
    "from IPython.display import display"
   ]
  },
  {
   "cell_type": "code",
   "execution_count": 31,
   "metadata": {},
   "outputs": [
    {
     "data": {
      "application/vnd.jupyter.widget-view+json": {
       "model_id": "0a10a49c61ee493d8e8db5bec563b876",
       "version_major": 2,
       "version_minor": 0
      },
      "text/plain": [
       "Text(value='', description='Question:', placeholder='Type your Question')"
      ]
     },
     "metadata": {},
     "output_type": "display_data"
    }
   ],
   "source": [
    "text = widgets.Text(value='',\n",
    "                   placeholder='Type your Question',\n",
    "                   description='Question:',\n",
    "                   disabled=False)\n",
    "\n",
    "display(text)\n",
    "\n",
    "\n",
    "def answer_probability(wdgt):\n",
    "    \n",
    "    new_text = wdgt.value\n",
    "    \n",
    "    explainer = LimeTextExplainer(class_names=['No answer','Answer'])\n",
    "    exp = explainer.explain_instance(new_text,\n",
    "                                     pipeline.predict_proba,\n",
    "                                     num_features=6)\n",
    "\n",
    "    exp.show_in_notebook(text = True)\n",
    "    \n",
    "text.on_submit(answer_probability)"
   ]
  }
 ],
 "metadata": {
  "kernelspec": {
   "display_name": "Python 3",
   "language": "python",
   "name": "python3"
  },
  "language_info": {
   "codemirror_mode": {
    "name": "ipython",
    "version": 3
   },
   "file_extension": ".py",
   "mimetype": "text/x-python",
   "name": "python",
   "nbconvert_exporter": "python",
   "pygments_lexer": "ipython3",
   "version": "3.7.3"
  }
 },
 "nbformat": 4,
 "nbformat_minor": 2
}
