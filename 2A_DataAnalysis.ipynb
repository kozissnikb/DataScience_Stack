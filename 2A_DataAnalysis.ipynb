{
 "cells": [
  {
   "cell_type": "code",
   "execution_count": 9,
   "metadata": {},
   "outputs": [],
   "source": [
    "# Import libraries\n",
    "\n",
    "import pandas as pd\n",
    "import numpy as np\n",
    "import matplotlib.pyplot as plt\n",
    "import re\n",
    "\n",
    "%matplotlib inline"
   ]
  },
  {
   "cell_type": "code",
   "execution_count": 10,
   "metadata": {},
   "outputs": [],
   "source": [
    "# Combining saved scrapes 1-33"
   ]
  },
  {
   "cell_type": "code",
   "execution_count": 11,
   "metadata": {},
   "outputs": [],
   "source": [
    "import glob"
   ]
  },
  {
   "cell_type": "code",
   "execution_count": 69,
   "metadata": {},
   "outputs": [],
   "source": [
    "dfs = []\n",
    "bad_files = []\n",
    "for file in glob.glob('scrape/*'):\n",
    "    try:\n",
    "        dfs.append(pd.read_csv(file))\n",
    "    except:\n",
    "        bad_files.append(file)"
   ]
  },
  {
   "cell_type": "code",
   "execution_count": 70,
   "metadata": {},
   "outputs": [],
   "source": [
    "fuller_df = pd.concat(dfs, ignore_index=True)"
   ]
  },
  {
   "cell_type": "code",
   "execution_count": 71,
   "metadata": {},
   "outputs": [],
   "source": [
    "fuller_df = fuller_df.drop_duplicates(keep='first')"
   ]
  },
  {
   "cell_type": "code",
   "execution_count": 72,
   "metadata": {},
   "outputs": [
    {
     "data": {
      "text/plain": [
       "(14485872, 8)"
      ]
     },
     "execution_count": 72,
     "metadata": {},
     "output_type": "execute_result"
    }
   ],
   "source": [
    "fuller_df.shape"
   ]
  },
  {
   "cell_type": "code",
   "execution_count": 73,
   "metadata": {},
   "outputs": [
    {
     "data": {
      "text/html": [
       "<div>\n",
       "<style scoped>\n",
       "    .dataframe tbody tr th:only-of-type {\n",
       "        vertical-align: middle;\n",
       "    }\n",
       "\n",
       "    .dataframe tbody tr th {\n",
       "        vertical-align: top;\n",
       "    }\n",
       "\n",
       "    .dataframe thead th {\n",
       "        text-align: right;\n",
       "    }\n",
       "</style>\n",
       "<table border=\"1\" class=\"dataframe\">\n",
       "  <thead>\n",
       "    <tr style=\"text-align: right;\">\n",
       "      <th></th>\n",
       "      <th>Unnamed: 0</th>\n",
       "      <th>question</th>\n",
       "      <th>summary</th>\n",
       "      <th>tags</th>\n",
       "      <th>time_stamp</th>\n",
       "      <th>user_id</th>\n",
       "      <th>no_of_votes</th>\n",
       "      <th>no_of_answers</th>\n",
       "    </tr>\n",
       "  </thead>\n",
       "  <tbody>\n",
       "    <tr>\n",
       "      <th>14485874</th>\n",
       "      <td>4995</td>\n",
       "      <td>Jekyll and liquid - Show related posts by amou...</td>\n",
       "      <td>i'd like to add a bar called \"related posts\" a...</td>\n",
       "      <td>['tags', 'jekyll', 'liquid']</td>\n",
       "      <td>2016-04-07 07:06:38Z</td>\n",
       "      <td>David Jacquel</td>\n",
       "      <td>2.0</td>\n",
       "      <td>1.0</td>\n",
       "    </tr>\n",
       "    <tr>\n",
       "      <th>14485875</th>\n",
       "      <td>4996</td>\n",
       "      <td>searching a file in linux</td>\n",
       "      <td>I want to find in the system a file, and I kno...</td>\n",
       "      <td>['regex', 'linux', 'search', 'find']</td>\n",
       "      <td>2016-04-07 07:06:27Z</td>\n",
       "      <td>user unknown</td>\n",
       "      <td>1.0</td>\n",
       "      <td>2.0</td>\n",
       "    </tr>\n",
       "    <tr>\n",
       "      <th>14485876</th>\n",
       "      <td>4997</td>\n",
       "      <td>angular ng-options omit value</td>\n",
       "      <td>I have a SELECT dropdown rendering the availab...</td>\n",
       "      <td>['angularjs', 'ng-options', 'angularjs-ng-opti...</td>\n",
       "      <td>2016-04-07 07:06:20Z</td>\n",
       "      <td>Community</td>\n",
       "      <td>0.0</td>\n",
       "      <td>1.0</td>\n",
       "    </tr>\n",
       "    <tr>\n",
       "      <th>14485877</th>\n",
       "      <td>4998</td>\n",
       "      <td>unable to send mail using php mail() codeignit...</td>\n",
       "      <td>if ($this-&gt;form_validation-&gt;run()) {\\n        ...</td>\n",
       "      <td>['php', 'codeigniter', 'email']</td>\n",
       "      <td>2016-04-07 07:06:03Z</td>\n",
       "      <td>rinru</td>\n",
       "      <td>0.0</td>\n",
       "      <td>0.0</td>\n",
       "    </tr>\n",
       "    <tr>\n",
       "      <th>14485878</th>\n",
       "      <td>4999</td>\n",
       "      <td>return default value in Object</td>\n",
       "      <td>If I have a JS object like this:\\n\\nmyObject =...</td>\n",
       "      <td>['javascript', 'object']</td>\n",
       "      <td>2016-04-07 07:05:56Z</td>\n",
       "      <td>sics</td>\n",
       "      <td>0.0</td>\n",
       "      <td>1.0</td>\n",
       "    </tr>\n",
       "  </tbody>\n",
       "</table>\n",
       "</div>"
      ],
      "text/plain": [
       "         Unnamed: 0                                           question  \\\n",
       "14485874       4995  Jekyll and liquid - Show related posts by amou...   \n",
       "14485875       4996                          searching a file in linux   \n",
       "14485876       4997                      angular ng-options omit value   \n",
       "14485877       4998  unable to send mail using php mail() codeignit...   \n",
       "14485878       4999                     return default value in Object   \n",
       "\n",
       "                                                    summary  \\\n",
       "14485874  i'd like to add a bar called \"related posts\" a...   \n",
       "14485875  I want to find in the system a file, and I kno...   \n",
       "14485876  I have a SELECT dropdown rendering the availab...   \n",
       "14485877  if ($this->form_validation->run()) {\\n        ...   \n",
       "14485878  If I have a JS object like this:\\n\\nmyObject =...   \n",
       "\n",
       "                                                       tags  \\\n",
       "14485874                       ['tags', 'jekyll', 'liquid']   \n",
       "14485875               ['regex', 'linux', 'search', 'find']   \n",
       "14485876  ['angularjs', 'ng-options', 'angularjs-ng-opti...   \n",
       "14485877                    ['php', 'codeigniter', 'email']   \n",
       "14485878                           ['javascript', 'object']   \n",
       "\n",
       "                    time_stamp        user_id  no_of_votes  no_of_answers  \n",
       "14485874  2016-04-07 07:06:38Z  David Jacquel          2.0            1.0  \n",
       "14485875  2016-04-07 07:06:27Z   user unknown          1.0            2.0  \n",
       "14485876  2016-04-07 07:06:20Z      Community          0.0            1.0  \n",
       "14485877  2016-04-07 07:06:03Z          rinru          0.0            0.0  \n",
       "14485878  2016-04-07 07:05:56Z           sics          0.0            1.0  "
      ]
     },
     "execution_count": 73,
     "metadata": {},
     "output_type": "execute_result"
    }
   ],
   "source": [
    "fuller_df.tail()"
   ]
  },
  {
   "cell_type": "code",
   "execution_count": 74,
   "metadata": {},
   "outputs": [],
   "source": [
    "fuller_df = fuller_df.drop(columns = 'Unnamed: 0')"
   ]
  },
  {
   "cell_type": "code",
   "execution_count": 75,
   "metadata": {},
   "outputs": [],
   "source": [
    "fuller_df.to_csv('data/big_rescue_052120.csv', index=False)"
   ]
  },
  {
   "cell_type": "code",
   "execution_count": null,
   "metadata": {},
   "outputs": [],
   "source": [
    "# Importing StackOverflow Dataframe for Analysis"
   ]
  },
  {
   "cell_type": "code",
   "execution_count": 26,
   "metadata": {},
   "outputs": [],
   "source": [
    "fuller_df = pd.read_csv('data/dataframe_051620.csv')"
   ]
  },
  {
   "cell_type": "code",
   "execution_count": 27,
   "metadata": {},
   "outputs": [
    {
     "data": {
      "text/plain": [
       "(11000381, 7)"
      ]
     },
     "execution_count": 27,
     "metadata": {},
     "output_type": "execute_result"
    }
   ],
   "source": [
    "fuller_df.shape"
   ]
  },
  {
   "cell_type": "code",
   "execution_count": 76,
   "metadata": {},
   "outputs": [],
   "source": [
    "first_df = pd.read_csv('data/small_rescue_052120.csv')"
   ]
  },
  {
   "cell_type": "code",
   "execution_count": 77,
   "metadata": {},
   "outputs": [
    {
     "data": {
      "text/plain": [
       "(2470117, 7)"
      ]
     },
     "execution_count": 77,
     "metadata": {},
     "output_type": "execute_result"
    }
   ],
   "source": [
    "first_df.shape"
   ]
  },
  {
   "cell_type": "code",
   "execution_count": 78,
   "metadata": {},
   "outputs": [],
   "source": [
    "new_data = pd.concat([first_df, fuller_df])"
   ]
  },
  {
   "cell_type": "code",
   "execution_count": 79,
   "metadata": {},
   "outputs": [
    {
     "data": {
      "text/plain": [
       "(16955989, 7)"
      ]
     },
     "execution_count": 79,
     "metadata": {},
     "output_type": "execute_result"
    }
   ],
   "source": [
    "new_data.shape"
   ]
  },
  {
   "cell_type": "code",
   "execution_count": 32,
   "metadata": {},
   "outputs": [
    {
     "data": {
      "text/html": [
       "<div>\n",
       "<style scoped>\n",
       "    .dataframe tbody tr th:only-of-type {\n",
       "        vertical-align: middle;\n",
       "    }\n",
       "\n",
       "    .dataframe tbody tr th {\n",
       "        vertical-align: top;\n",
       "    }\n",
       "\n",
       "    .dataframe thead th {\n",
       "        text-align: right;\n",
       "    }\n",
       "</style>\n",
       "<table border=\"1\" class=\"dataframe\">\n",
       "  <thead>\n",
       "    <tr style=\"text-align: right;\">\n",
       "      <th></th>\n",
       "      <th>question</th>\n",
       "      <th>summary</th>\n",
       "      <th>tags</th>\n",
       "      <th>time_stamp</th>\n",
       "      <th>user_id</th>\n",
       "      <th>no_of_votes</th>\n",
       "      <th>no_of_answers</th>\n",
       "    </tr>\n",
       "  </thead>\n",
       "  <tbody>\n",
       "    <tr>\n",
       "      <th>11000376</th>\n",
       "      <td>Jekyll and liquid - Show related posts by amou...</td>\n",
       "      <td>i'd like to add a bar called \"related posts\" a...</td>\n",
       "      <td>['tags', 'jekyll', 'liquid']</td>\n",
       "      <td>2016-04-07 07:06:38Z</td>\n",
       "      <td>David Jacquel</td>\n",
       "      <td>2.0</td>\n",
       "      <td>1.0</td>\n",
       "    </tr>\n",
       "    <tr>\n",
       "      <th>11000377</th>\n",
       "      <td>searching a file in linux</td>\n",
       "      <td>I want to find in the system a file, and I kno...</td>\n",
       "      <td>['regex', 'linux', 'search', 'find']</td>\n",
       "      <td>2016-04-07 07:06:27Z</td>\n",
       "      <td>user unknown</td>\n",
       "      <td>1.0</td>\n",
       "      <td>2.0</td>\n",
       "    </tr>\n",
       "    <tr>\n",
       "      <th>11000378</th>\n",
       "      <td>angular ng-options omit value</td>\n",
       "      <td>I have a SELECT dropdown rendering the availab...</td>\n",
       "      <td>['angularjs', 'ng-options', 'angularjs-ng-opti...</td>\n",
       "      <td>2016-04-07 07:06:20Z</td>\n",
       "      <td>Community</td>\n",
       "      <td>0.0</td>\n",
       "      <td>1.0</td>\n",
       "    </tr>\n",
       "    <tr>\n",
       "      <th>11000379</th>\n",
       "      <td>unable to send mail using php mail() codeignit...</td>\n",
       "      <td>if ($this-&gt;form_validation-&gt;run()) {\\n        ...</td>\n",
       "      <td>['php', 'codeigniter', 'email']</td>\n",
       "      <td>2016-04-07 07:06:03Z</td>\n",
       "      <td>rinru</td>\n",
       "      <td>0.0</td>\n",
       "      <td>0.0</td>\n",
       "    </tr>\n",
       "    <tr>\n",
       "      <th>11000380</th>\n",
       "      <td>return default value in Object</td>\n",
       "      <td>If I have a JS object like this:\\n\\nmyObject =...</td>\n",
       "      <td>['javascript', 'object']</td>\n",
       "      <td>2016-04-07 07:05:56Z</td>\n",
       "      <td>sics</td>\n",
       "      <td>0.0</td>\n",
       "      <td>1.0</td>\n",
       "    </tr>\n",
       "  </tbody>\n",
       "</table>\n",
       "</div>"
      ],
      "text/plain": [
       "                                                   question  \\\n",
       "11000376  Jekyll and liquid - Show related posts by amou...   \n",
       "11000377                          searching a file in linux   \n",
       "11000378                      angular ng-options omit value   \n",
       "11000379  unable to send mail using php mail() codeignit...   \n",
       "11000380                     return default value in Object   \n",
       "\n",
       "                                                    summary  \\\n",
       "11000376  i'd like to add a bar called \"related posts\" a...   \n",
       "11000377  I want to find in the system a file, and I kno...   \n",
       "11000378  I have a SELECT dropdown rendering the availab...   \n",
       "11000379  if ($this->form_validation->run()) {\\n        ...   \n",
       "11000380  If I have a JS object like this:\\n\\nmyObject =...   \n",
       "\n",
       "                                                       tags  \\\n",
       "11000376                       ['tags', 'jekyll', 'liquid']   \n",
       "11000377               ['regex', 'linux', 'search', 'find']   \n",
       "11000378  ['angularjs', 'ng-options', 'angularjs-ng-opti...   \n",
       "11000379                    ['php', 'codeigniter', 'email']   \n",
       "11000380                           ['javascript', 'object']   \n",
       "\n",
       "                    time_stamp        user_id  no_of_votes  no_of_answers  \n",
       "11000376  2016-04-07 07:06:38Z  David Jacquel          2.0            1.0  \n",
       "11000377  2016-04-07 07:06:27Z   user unknown          1.0            2.0  \n",
       "11000378  2016-04-07 07:06:20Z      Community          0.0            1.0  \n",
       "11000379  2016-04-07 07:06:03Z          rinru          0.0            0.0  \n",
       "11000380  2016-04-07 07:05:56Z           sics          0.0            1.0  "
      ]
     },
     "execution_count": 32,
     "metadata": {},
     "output_type": "execute_result"
    }
   ],
   "source": [
    "new_data.tail()"
   ]
  },
  {
   "cell_type": "code",
   "execution_count": 80,
   "metadata": {},
   "outputs": [],
   "source": [
    "new_df = new_data.reset_index(drop=True)"
   ]
  },
  {
   "cell_type": "code",
   "execution_count": 81,
   "metadata": {},
   "outputs": [
    {
     "data": {
      "text/plain": [
       "False    16955385\n",
       "True          604\n",
       "Name: time_stamp, dtype: int64"
      ]
     },
     "execution_count": 81,
     "metadata": {},
     "output_type": "execute_result"
    }
   ],
   "source": [
    "new_df['time_stamp'].isna().value_counts()"
   ]
  },
  {
   "cell_type": "code",
   "execution_count": 82,
   "metadata": {},
   "outputs": [],
   "source": [
    "# Conditional drop -> Only drop rows with NaN values in the 'time_stamp' column\n",
    "dropped_nans = new_df.dropna(subset=['time_stamp'])"
   ]
  },
  {
   "cell_type": "code",
   "execution_count": 83,
   "metadata": {},
   "outputs": [
    {
     "data": {
      "text/plain": [
       "False    16955385\n",
       "Name: time_stamp, dtype: int64"
      ]
     },
     "execution_count": 83,
     "metadata": {},
     "output_type": "execute_result"
    }
   ],
   "source": [
    "dropped_nans['time_stamp'].isna().value_counts()"
   ]
  },
  {
   "cell_type": "code",
   "execution_count": 84,
   "metadata": {},
   "outputs": [],
   "source": [
    " "
   ]
  },
  {
   "cell_type": "code",
   "execution_count": 85,
   "metadata": {},
   "outputs": [],
   "source": [
    "# Testing split by regex to isolate date from 'date_time' column\n",
    "time_stampy = '2020-04-25 21:54:31Z'"
   ]
  },
  {
   "cell_type": "code",
   "execution_count": 86,
   "metadata": {},
   "outputs": [
    {
     "data": {
      "text/plain": [
       "'2020-04-25'"
      ]
     },
     "execution_count": 86,
     "metadata": {},
     "output_type": "execute_result"
    }
   ],
   "source": [
    "import re\n",
    "\n",
    "re.split('\\s+', time_stampy)[0]\n"
   ]
  },
  {
   "cell_type": "code",
   "execution_count": 87,
   "metadata": {},
   "outputs": [],
   "source": [
    "# Making sure 'time_stamp' column only contains strings\n",
    "new_df['time_stamp'] = new_df['time_stamp'].astype(str)"
   ]
  },
  {
   "cell_type": "code",
   "execution_count": 88,
   "metadata": {},
   "outputs": [
    {
     "data": {
      "text/plain": [
       "<bound method NDFrame.describe of 0           2019-08-02 06:54:26Z\n",
       "1           2019-08-02 06:54:21Z\n",
       "2           2019-08-02 06:54:20Z\n",
       "3           2019-08-02 06:53:58Z\n",
       "4           2019-08-02 06:53:58Z\n",
       "                    ...         \n",
       "16955984    2016-04-07 07:06:38Z\n",
       "16955985    2016-04-07 07:06:27Z\n",
       "16955986    2016-04-07 07:06:20Z\n",
       "16955987    2016-04-07 07:06:03Z\n",
       "16955988    2016-04-07 07:05:56Z\n",
       "Name: time_stamp, Length: 16955385, dtype: object>"
      ]
     },
     "execution_count": 88,
     "metadata": {},
     "output_type": "execute_result"
    }
   ],
   "source": [
    "new_df['time_stamp'].describe"
   ]
  },
  {
   "cell_type": "code",
   "execution_count": 89,
   "metadata": {},
   "outputs": [],
   "source": [
    "# Apply function in combination with a lambda function since I can't pass a column through my simple regex split\n",
    "new_df['date'] = new_df['time_stamp'].apply(lambda x : re.split('\\s+', x)[0])"
   ]
  },
  {
   "cell_type": "code",
   "execution_count": 43,
   "metadata": {},
   "outputs": [
    {
     "data": {
      "text/html": [
       "<div>\n",
       "<style scoped>\n",
       "    .dataframe tbody tr th:only-of-type {\n",
       "        vertical-align: middle;\n",
       "    }\n",
       "\n",
       "    .dataframe tbody tr th {\n",
       "        vertical-align: top;\n",
       "    }\n",
       "\n",
       "    .dataframe thead th {\n",
       "        text-align: right;\n",
       "    }\n",
       "</style>\n",
       "<table border=\"1\" class=\"dataframe\">\n",
       "  <thead>\n",
       "    <tr style=\"text-align: right;\">\n",
       "      <th></th>\n",
       "      <th>question</th>\n",
       "      <th>summary</th>\n",
       "      <th>tags</th>\n",
       "      <th>time_stamp</th>\n",
       "      <th>user_id</th>\n",
       "      <th>no_of_votes</th>\n",
       "      <th>no_of_answers</th>\n",
       "      <th>date</th>\n",
       "    </tr>\n",
       "  </thead>\n",
       "  <tbody>\n",
       "    <tr>\n",
       "      <th>0</th>\n",
       "      <td>Connecting to Postgresql in a docker container...</td>\n",
       "      <td>I just started learning docker and I decided t...</td>\n",
       "      <td>['postgresql', 'docker']</td>\n",
       "      <td>2020-04-25 21:54:31Z</td>\n",
       "      <td>Zeitounator</td>\n",
       "      <td>1.0</td>\n",
       "      <td>1.0</td>\n",
       "      <td>2020-04-25</td>\n",
       "    </tr>\n",
       "    <tr>\n",
       "      <th>1</th>\n",
       "      <td>How to detect the element i clicked on from an...</td>\n",
       "      <td>I am trying to make this project where i have ...</td>\n",
       "      <td>['javascript', 'html']</td>\n",
       "      <td>2020-04-25 21:54:30Z</td>\n",
       "      <td>mateleco</td>\n",
       "      <td>1.0</td>\n",
       "      <td>3.0</td>\n",
       "      <td>2020-04-25</td>\n",
       "    </tr>\n",
       "    <tr>\n",
       "      <th>2</th>\n",
       "      <td>Angular : open sidenav with another component ...</td>\n",
       "      <td>I can not open a sidenav from another componen...</td>\n",
       "      <td>['angular', 'sidenav']</td>\n",
       "      <td>2020-04-25 21:54:28Z</td>\n",
       "      <td>Vugar Ahmadov</td>\n",
       "      <td>1.0</td>\n",
       "      <td>2.0</td>\n",
       "      <td>2020-04-25</td>\n",
       "    </tr>\n",
       "    <tr>\n",
       "      <th>3</th>\n",
       "      <td>Nginx timeout for websocket</td>\n",
       "      <td>I'm connecting a client with websocket through...</td>\n",
       "      <td>['nginx', 'asp.net-core', 'websocket', 'timeou...</td>\n",
       "      <td>2020-04-25 21:54:14Z</td>\n",
       "      <td>mkrieger1</td>\n",
       "      <td>0.0</td>\n",
       "      <td>0.0</td>\n",
       "      <td>2020-04-25</td>\n",
       "    </tr>\n",
       "    <tr>\n",
       "      <th>4</th>\n",
       "      <td>Change Tracking for TeraData</td>\n",
       "      <td>We need a way to know which rows changed in a ...</td>\n",
       "      <td>['etl', 'teradata', 'change-tracking']</td>\n",
       "      <td>2020-04-25 21:54:09Z</td>\n",
       "      <td>Techdeveloper</td>\n",
       "      <td>0.0</td>\n",
       "      <td>1.0</td>\n",
       "      <td>2020-04-25</td>\n",
       "    </tr>\n",
       "    <tr>\n",
       "      <th>...</th>\n",
       "      <td>...</td>\n",
       "      <td>...</td>\n",
       "      <td>...</td>\n",
       "      <td>...</td>\n",
       "      <td>...</td>\n",
       "      <td>...</td>\n",
       "      <td>...</td>\n",
       "      <td>...</td>\n",
       "    </tr>\n",
       "    <tr>\n",
       "      <th>95</th>\n",
       "      <td>Parse array object inside JSON response</td>\n",
       "      <td>My JSON response:\\n\\n{\"type\":\"FeatureCollectio...</td>\n",
       "      <td>['json', 'excel', 'vba', 'jsonconvert']</td>\n",
       "      <td>2020-04-25 21:34:32Z</td>\n",
       "      <td>braX</td>\n",
       "      <td>0.0</td>\n",
       "      <td>1.0</td>\n",
       "      <td>2020-04-25</td>\n",
       "    </tr>\n",
       "    <tr>\n",
       "      <th>96</th>\n",
       "      <td>Swapping 2 subs-tree algorithm</td>\n",
       "      <td>I having problem writing an algorithm swap 2 s...</td>\n",
       "      <td>['algorithm', 'binary-tree']</td>\n",
       "      <td>2020-04-25 21:34:31Z</td>\n",
       "      <td>Issa_newton1995</td>\n",
       "      <td>0.0</td>\n",
       "      <td>0.0</td>\n",
       "      <td>2020-04-25</td>\n",
       "    </tr>\n",
       "    <tr>\n",
       "      <th>97</th>\n",
       "      <td>handle push notification (FCM) while app is in...</td>\n",
       "      <td>What I want: I want to send notification from ...</td>\n",
       "      <td>['firebase', 'android-intent', 'android-activi...</td>\n",
       "      <td>2020-04-25 21:34:20Z</td>\n",
       "      <td>Hanoch Moreno</td>\n",
       "      <td>2.0</td>\n",
       "      <td>2.0</td>\n",
       "      <td>2020-04-25</td>\n",
       "    </tr>\n",
       "    <tr>\n",
       "      <th>98</th>\n",
       "      <td>Why switchMap does not cancel repeated request?</td>\n",
       "      <td>The request is executed on the server:\\n\\nngOn...</td>\n",
       "      <td>['angular', 'angular5', 'angular8']</td>\n",
       "      <td>2020-04-25 21:34:20Z</td>\n",
       "      <td>tuckerjt07</td>\n",
       "      <td>-1.0</td>\n",
       "      <td>1.0</td>\n",
       "      <td>2020-04-25</td>\n",
       "    </tr>\n",
       "    <tr>\n",
       "      <th>99</th>\n",
       "      <td>reinterpret_cast does not have defined behavior</td>\n",
       "      <td>SO i have two classes Tuna and Carp which have...</td>\n",
       "      <td>['c++']</td>\n",
       "      <td>2020-04-25 21:34:12Z</td>\n",
       "      <td>john</td>\n",
       "      <td>1.0</td>\n",
       "      <td>1.0</td>\n",
       "      <td>2020-04-25</td>\n",
       "    </tr>\n",
       "  </tbody>\n",
       "</table>\n",
       "<p>100 rows × 8 columns</p>\n",
       "</div>"
      ],
      "text/plain": [
       "                                             question  \\\n",
       "0   Connecting to Postgresql in a docker container...   \n",
       "1   How to detect the element i clicked on from an...   \n",
       "2   Angular : open sidenav with another component ...   \n",
       "3                         Nginx timeout for websocket   \n",
       "4                        Change Tracking for TeraData   \n",
       "..                                                ...   \n",
       "95            Parse array object inside JSON response   \n",
       "96                     Swapping 2 subs-tree algorithm   \n",
       "97  handle push notification (FCM) while app is in...   \n",
       "98    Why switchMap does not cancel repeated request?   \n",
       "99    reinterpret_cast does not have defined behavior   \n",
       "\n",
       "                                              summary  \\\n",
       "0   I just started learning docker and I decided t...   \n",
       "1   I am trying to make this project where i have ...   \n",
       "2   I can not open a sidenav from another componen...   \n",
       "3   I'm connecting a client with websocket through...   \n",
       "4   We need a way to know which rows changed in a ...   \n",
       "..                                                ...   \n",
       "95  My JSON response:\\n\\n{\"type\":\"FeatureCollectio...   \n",
       "96  I having problem writing an algorithm swap 2 s...   \n",
       "97  What I want: I want to send notification from ...   \n",
       "98  The request is executed on the server:\\n\\nngOn...   \n",
       "99  SO i have two classes Tuna and Carp which have...   \n",
       "\n",
       "                                                 tags            time_stamp  \\\n",
       "0                            ['postgresql', 'docker']  2020-04-25 21:54:31Z   \n",
       "1                              ['javascript', 'html']  2020-04-25 21:54:30Z   \n",
       "2                              ['angular', 'sidenav']  2020-04-25 21:54:28Z   \n",
       "3   ['nginx', 'asp.net-core', 'websocket', 'timeou...  2020-04-25 21:54:14Z   \n",
       "4              ['etl', 'teradata', 'change-tracking']  2020-04-25 21:54:09Z   \n",
       "..                                                ...                   ...   \n",
       "95            ['json', 'excel', 'vba', 'jsonconvert']  2020-04-25 21:34:32Z   \n",
       "96                       ['algorithm', 'binary-tree']  2020-04-25 21:34:31Z   \n",
       "97  ['firebase', 'android-intent', 'android-activi...  2020-04-25 21:34:20Z   \n",
       "98                ['angular', 'angular5', 'angular8']  2020-04-25 21:34:20Z   \n",
       "99                                            ['c++']  2020-04-25 21:34:12Z   \n",
       "\n",
       "            user_id  no_of_votes  no_of_answers        date  \n",
       "0       Zeitounator          1.0            1.0  2020-04-25  \n",
       "1          mateleco          1.0            3.0  2020-04-25  \n",
       "2     Vugar Ahmadov          1.0            2.0  2020-04-25  \n",
       "3         mkrieger1          0.0            0.0  2020-04-25  \n",
       "4     Techdeveloper          0.0            1.0  2020-04-25  \n",
       "..              ...          ...            ...         ...  \n",
       "95             braX          0.0            1.0  2020-04-25  \n",
       "96  Issa_newton1995          0.0            0.0  2020-04-25  \n",
       "97    Hanoch Moreno          2.0            2.0  2020-04-25  \n",
       "98       tuckerjt07         -1.0            1.0  2020-04-25  \n",
       "99             john          1.0            1.0  2020-04-25  \n",
       "\n",
       "[100 rows x 8 columns]"
      ]
     },
     "execution_count": 43,
     "metadata": {},
     "output_type": "execute_result"
    }
   ],
   "source": [
    "new_df.head(100)"
   ]
  },
  {
   "cell_type": "code",
   "execution_count": 90,
   "metadata": {},
   "outputs": [],
   "source": [
    "# Converting the remaining 'date' column to datetime in order to work with it\n",
    "new_df['date'] = pd.to_datetime(new_df['date'], errors='coerce', format='%Y-%m-%d')"
   ]
  },
  {
   "cell_type": "code",
   "execution_count": 91,
   "metadata": {},
   "outputs": [
    {
     "name": "stdout",
     "output_type": "stream",
     "text": [
      "<class 'pandas.core.frame.DataFrame'>\n",
      "Int64Index: 16955385 entries, 0 to 16955988\n",
      "Data columns (total 8 columns):\n",
      " #   Column         Dtype         \n",
      "---  ------         -----         \n",
      " 0   question       object        \n",
      " 1   summary        object        \n",
      " 2   tags           object        \n",
      " 3   time_stamp     object        \n",
      " 4   user_id        object        \n",
      " 5   no_of_votes    float64       \n",
      " 6   no_of_answers  float64       \n",
      " 7   date           datetime64[ns]\n",
      "dtypes: datetime64[ns](1), float64(2), object(5)\n",
      "memory usage: 1.1+ GB\n"
     ]
    }
   ],
   "source": [
    "new_df.info()"
   ]
  },
  {
   "cell_type": "code",
   "execution_count": 92,
   "metadata": {},
   "outputs": [],
   "source": [
    "new_df = new_df.drop(columns=['time_stamp'])"
   ]
  },
  {
   "cell_type": "code",
   "execution_count": 93,
   "metadata": {},
   "outputs": [],
   "source": [
    "# Selecting only rows with dates in 2020\n",
    "analysis_2020 = new_df[new_df['date'] >= '2020-01-01']"
   ]
  },
  {
   "cell_type": "code",
   "execution_count": 48,
   "metadata": {},
   "outputs": [
    {
     "data": {
      "text/html": [
       "<div>\n",
       "<style scoped>\n",
       "    .dataframe tbody tr th:only-of-type {\n",
       "        vertical-align: middle;\n",
       "    }\n",
       "\n",
       "    .dataframe tbody tr th {\n",
       "        vertical-align: top;\n",
       "    }\n",
       "\n",
       "    .dataframe thead th {\n",
       "        text-align: right;\n",
       "    }\n",
       "</style>\n",
       "<table border=\"1\" class=\"dataframe\">\n",
       "  <thead>\n",
       "    <tr style=\"text-align: right;\">\n",
       "      <th></th>\n",
       "      <th>question</th>\n",
       "      <th>summary</th>\n",
       "      <th>tags</th>\n",
       "      <th>user_id</th>\n",
       "      <th>no_of_votes</th>\n",
       "      <th>no_of_answers</th>\n",
       "      <th>date</th>\n",
       "    </tr>\n",
       "  </thead>\n",
       "  <tbody>\n",
       "    <tr>\n",
       "      <th>0</th>\n",
       "      <td>Connecting to Postgresql in a docker container...</td>\n",
       "      <td>I just started learning docker and I decided t...</td>\n",
       "      <td>['postgresql', 'docker']</td>\n",
       "      <td>Zeitounator</td>\n",
       "      <td>1.0</td>\n",
       "      <td>1.0</td>\n",
       "      <td>2020-04-25</td>\n",
       "    </tr>\n",
       "    <tr>\n",
       "      <th>1</th>\n",
       "      <td>How to detect the element i clicked on from an...</td>\n",
       "      <td>I am trying to make this project where i have ...</td>\n",
       "      <td>['javascript', 'html']</td>\n",
       "      <td>mateleco</td>\n",
       "      <td>1.0</td>\n",
       "      <td>3.0</td>\n",
       "      <td>2020-04-25</td>\n",
       "    </tr>\n",
       "    <tr>\n",
       "      <th>2</th>\n",
       "      <td>Angular : open sidenav with another component ...</td>\n",
       "      <td>I can not open a sidenav from another componen...</td>\n",
       "      <td>['angular', 'sidenav']</td>\n",
       "      <td>Vugar Ahmadov</td>\n",
       "      <td>1.0</td>\n",
       "      <td>2.0</td>\n",
       "      <td>2020-04-25</td>\n",
       "    </tr>\n",
       "    <tr>\n",
       "      <th>3</th>\n",
       "      <td>Nginx timeout for websocket</td>\n",
       "      <td>I'm connecting a client with websocket through...</td>\n",
       "      <td>['nginx', 'asp.net-core', 'websocket', 'timeou...</td>\n",
       "      <td>mkrieger1</td>\n",
       "      <td>0.0</td>\n",
       "      <td>0.0</td>\n",
       "      <td>2020-04-25</td>\n",
       "    </tr>\n",
       "    <tr>\n",
       "      <th>4</th>\n",
       "      <td>Change Tracking for TeraData</td>\n",
       "      <td>We need a way to know which rows changed in a ...</td>\n",
       "      <td>['etl', 'teradata', 'change-tracking']</td>\n",
       "      <td>Techdeveloper</td>\n",
       "      <td>0.0</td>\n",
       "      <td>1.0</td>\n",
       "      <td>2020-04-25</td>\n",
       "    </tr>\n",
       "  </tbody>\n",
       "</table>\n",
       "</div>"
      ],
      "text/plain": [
       "                                            question  \\\n",
       "0  Connecting to Postgresql in a docker container...   \n",
       "1  How to detect the element i clicked on from an...   \n",
       "2  Angular : open sidenav with another component ...   \n",
       "3                        Nginx timeout for websocket   \n",
       "4                       Change Tracking for TeraData   \n",
       "\n",
       "                                             summary  \\\n",
       "0  I just started learning docker and I decided t...   \n",
       "1  I am trying to make this project where i have ...   \n",
       "2  I can not open a sidenav from another componen...   \n",
       "3  I'm connecting a client with websocket through...   \n",
       "4  We need a way to know which rows changed in a ...   \n",
       "\n",
       "                                                tags        user_id  \\\n",
       "0                           ['postgresql', 'docker']    Zeitounator   \n",
       "1                             ['javascript', 'html']       mateleco   \n",
       "2                             ['angular', 'sidenav']  Vugar Ahmadov   \n",
       "3  ['nginx', 'asp.net-core', 'websocket', 'timeou...      mkrieger1   \n",
       "4             ['etl', 'teradata', 'change-tracking']  Techdeveloper   \n",
       "\n",
       "   no_of_votes  no_of_answers       date  \n",
       "0          1.0            1.0 2020-04-25  \n",
       "1          1.0            3.0 2020-04-25  \n",
       "2          1.0            2.0 2020-04-25  \n",
       "3          0.0            0.0 2020-04-25  \n",
       "4          0.0            1.0 2020-04-25  "
      ]
     },
     "execution_count": 48,
     "metadata": {},
     "output_type": "execute_result"
    }
   ],
   "source": [
    "analysis_2020.head()"
   ]
  },
  {
   "cell_type": "code",
   "execution_count": 94,
   "metadata": {},
   "outputs": [
    {
     "data": {
      "text/plain": [
       "(1251931, 7)"
      ]
     },
     "execution_count": 94,
     "metadata": {},
     "output_type": "execute_result"
    }
   ],
   "source": [
    "analysis_2020.shape"
   ]
  },
  {
   "cell_type": "code",
   "execution_count": 95,
   "metadata": {},
   "outputs": [],
   "source": [
    "analysis_2019_20 = new_df[(new_df['date'] >= '2019-01-01') &  (new_df['date'] <= '2020-12-31')]"
   ]
  },
  {
   "cell_type": "code",
   "execution_count": 96,
   "metadata": {},
   "outputs": [
    {
     "data": {
      "text/plain": [
       "(3769278, 7)"
      ]
     },
     "execution_count": 96,
     "metadata": {},
     "output_type": "execute_result"
    }
   ],
   "source": [
    "analysis_2019_20.shape"
   ]
  },
  {
   "cell_type": "code",
   "execution_count": 97,
   "metadata": {},
   "outputs": [],
   "source": [
    "analysis_2019_20.to_csv('data/clean_mini.csv', index=False)"
   ]
  },
  {
   "cell_type": "code",
   "execution_count": 98,
   "metadata": {},
   "outputs": [
    {
     "data": {
      "text/plain": [
       "(2140153, 7)"
      ]
     },
     "execution_count": 98,
     "metadata": {},
     "output_type": "execute_result"
    }
   ],
   "source": [
    "analysis_2018 = new_df[(new_df['date'] >= '2018-01-01') &  (new_df['date'] <= '2018-12-31')]\n",
    "analysis_2018.shape"
   ]
  },
  {
   "cell_type": "code",
   "execution_count": 99,
   "metadata": {},
   "outputs": [
    {
     "data": {
      "text/plain": [
       "(2002870, 7)"
      ]
     },
     "execution_count": 99,
     "metadata": {},
     "output_type": "execute_result"
    }
   ],
   "source": [
    "analysis_2017 = new_df[(new_df['date'] >= '2017-01-01') &  (new_df['date'] <= '2017-12-31')]\n",
    "analysis_2017.shape"
   ]
  },
  {
   "cell_type": "code",
   "execution_count": 100,
   "metadata": {},
   "outputs": [
    {
     "data": {
      "text/plain": [
       "(2120266, 7)"
      ]
     },
     "execution_count": 100,
     "metadata": {},
     "output_type": "execute_result"
    }
   ],
   "source": [
    "analysis_2016 = new_df[(new_df['date'] >= '2016-01-01') &  (new_df['date'] <= '2016-12-31')]\n",
    "analysis_2016.shape"
   ]
  },
  {
   "cell_type": "code",
   "execution_count": 101,
   "metadata": {},
   "outputs": [
    {
     "data": {
      "text/plain": [
       "(2230821, 7)"
      ]
     },
     "execution_count": 101,
     "metadata": {},
     "output_type": "execute_result"
    }
   ],
   "source": [
    "analysis_2015 = new_df[(new_df['date'] >= '2015-01-01') &  (new_df['date'] <= '2015-12-31')]\n",
    "analysis_2015.shape"
   ]
  },
  {
   "cell_type": "code",
   "execution_count": 102,
   "metadata": {},
   "outputs": [
    {
     "data": {
      "text/plain": [
       "(2057709, 7)"
      ]
     },
     "execution_count": 102,
     "metadata": {},
     "output_type": "execute_result"
    }
   ],
   "source": [
    "analysis_2014 = new_df[(new_df['date'] >= '2014-01-01') &  (new_df['date'] <= '2014-12-31')]\n",
    "analysis_2014.shape"
   ]
  },
  {
   "cell_type": "code",
   "execution_count": 103,
   "metadata": {},
   "outputs": [
    {
     "data": {
      "text/plain": [
       "(1829201, 7)"
      ]
     },
     "execution_count": 103,
     "metadata": {},
     "output_type": "execute_result"
    }
   ],
   "source": [
    "analysis_2013 = new_df[(new_df['date'] >= '2013-01-01') &  (new_df['date'] <= '2013-12-31')]\n",
    "analysis_2013.shape"
   ]
  },
  {
   "cell_type": "code",
   "execution_count": 104,
   "metadata": {},
   "outputs": [],
   "source": [
    "new_df.to_csv('data/clean_stackoverflow_big.csv', index=False)"
   ]
  },
  {
   "cell_type": "code",
   "execution_count": null,
   "metadata": {},
   "outputs": [],
   "source": [
    "analysis_2020_tags = analysis_2020.loc[:, ['tags']]"
   ]
  },
  {
   "cell_type": "code",
   "execution_count": null,
   "metadata": {},
   "outputs": [],
   "source": [
    "analysis_2020_tags.head()"
   ]
  },
  {
   "cell_type": "code",
   "execution_count": null,
   "metadata": {},
   "outputs": [],
   "source": [
    "head_2020 = analysis_2020_tags"
   ]
  },
  {
   "cell_type": "code",
   "execution_count": null,
   "metadata": {},
   "outputs": [],
   "source": [
    "head_2020['tags'] = head_2020['tags'].astype(str).str.replace('\\[|\\]|\\'', '')"
   ]
  },
  {
   "cell_type": "code",
   "execution_count": null,
   "metadata": {},
   "outputs": [],
   "source": [
    "listed = (', ').join(head_2020['tags'])"
   ]
  },
  {
   "cell_type": "code",
   "execution_count": null,
   "metadata": {},
   "outputs": [],
   "source": [
    "listed_list_2020 = listed.split(', ')"
   ]
  },
  {
   "cell_type": "code",
   "execution_count": null,
   "metadata": {},
   "outputs": [],
   "source": [
    "from collections import Counter"
   ]
  },
  {
   "cell_type": "code",
   "execution_count": null,
   "metadata": {},
   "outputs": [],
   "source": [
    "cnt_2020 = Counter(listed_list_2020)"
   ]
  },
  {
   "cell_type": "code",
   "execution_count": null,
   "metadata": {},
   "outputs": [],
   "source": [
    "tags_common_2020 = cnt_2020.most_common()"
   ]
  },
  {
   "cell_type": "code",
   "execution_count": null,
   "metadata": {},
   "outputs": [],
   "source": [
    "tags_cnt_2020 = pd.DataFrame(tags_common_2020, columns=['tag', 'count'])\n",
    "tags_cnt_2020.head(25)"
   ]
  },
  {
   "cell_type": "code",
   "execution_count": null,
   "metadata": {
    "scrolled": true
   },
   "outputs": [],
   "source": [
    "analysis_2019_tags = analysis_2019.loc[:, ['tags']]\n",
    "analysis_2019_tags['tags'] = analysis_2019_tags['tags'].astype(str).str.replace('\\[|\\]|\\'', '')\n",
    "listed_2019 = (', ').join(analysis_2019_tags['tags'])\n",
    "listed_list_2019 = listed_2019.split(', ')\n",
    "cnt_2019 = Counter(listed_list_2019)\n",
    "tags_common_2019 = cnt_2019.most_common()\n",
    "tags_cnt_2019 = pd.DataFrame(tags_common_2019, columns=['tag', 'count'])\n",
    "tags_cnt_2019.head(25)"
   ]
  },
  {
   "cell_type": "code",
   "execution_count": null,
   "metadata": {
    "scrolled": true
   },
   "outputs": [],
   "source": [
    "analysis_2018_tags = analysis_2018.loc[:, ['tags']]\n",
    "analysis_2018_tags['tags'] = analysis_2018_tags['tags'].astype(str).str.replace('\\[|\\]|\\'', '')\n",
    "listed_2018 = (', ').join(analysis_2018_tags['tags'])\n",
    "listed_list_2018 = listed_2018.split(', ')\n",
    "cnt_2018 = Counter(listed_list_2018)\n",
    "tags_common_2018 = cnt_2018.most_common()\n",
    "tags_cnt_2018 = pd.DataFrame(tags_common_2018, columns=['tag', 'count'])\n",
    "tags_cnt_2018.head(25)"
   ]
  },
  {
   "cell_type": "code",
   "execution_count": null,
   "metadata": {},
   "outputs": [],
   "source": [
    "analysis_2017_tags = analysis_2017.loc[:, ['tags']]\n",
    "analysis_2017_tags['tags'] = analysis_2017_tags['tags'].astype(str).str.replace('\\[|\\]|\\'', '')\n",
    "listed_2017 = (', ').join(analysis_2017_tags['tags'])\n",
    "listed_list_2017 = listed_2017.split(', ')\n",
    "cnt_2017 = Counter(listed_list_2017)\n",
    "tags_common_2017 = cnt_2017.most_common()\n",
    "tags_cnt_2017 = pd.DataFrame(tags_common_2017, columns=['tag', 'count'])\n",
    "tags_cnt_2017.head(25)"
   ]
  },
  {
   "cell_type": "code",
   "execution_count": null,
   "metadata": {},
   "outputs": [],
   "source": [
    "analysis_2016_tags = analysis_2016.loc[:, ['tags']]\n",
    "analysis_2016_tags['tags'] = analysis_2016_tags['tags'].astype(str).str.replace('\\[|\\]|\\'', '')\n",
    "listed_2016 = (', ').join(analysis_2016_tags['tags'])\n",
    "listed_list_2016 = listed_2016.split(', ')\n",
    "cnt_2016 = Counter(listed_list_2016)\n",
    "tags_common_2016 = cnt_2016.most_common()\n",
    "tags_cnt_2016 = pd.DataFrame(tags_common_2016, columns=['tag', 'count'])\n",
    "tags_cnt_2016.head(25)"
   ]
  }
 ],
 "metadata": {
  "kernelspec": {
   "display_name": "Python 3",
   "language": "python",
   "name": "python3"
  },
  "language_info": {
   "codemirror_mode": {
    "name": "ipython",
    "version": 3
   },
   "file_extension": ".py",
   "mimetype": "text/x-python",
   "name": "python",
   "nbconvert_exporter": "python",
   "pygments_lexer": "ipython3",
   "version": "3.7.3"
  }
 },
 "nbformat": 4,
 "nbformat_minor": 2
}
