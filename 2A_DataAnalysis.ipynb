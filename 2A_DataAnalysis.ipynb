{
 "cells": [
  {
   "cell_type": "code",
   "execution_count": null,
   "metadata": {},
   "outputs": [],
   "source": [
    "# Import libraries\n",
    "\n",
    "import pandas as pd\n",
    "import numpy as np\n",
    "import matplotlib.pyplot as plt\n",
    "import re\n",
    "\n",
    "%matplotlib inline"
   ]
  },
  {
   "cell_type": "code",
   "execution_count": 2,
   "metadata": {},
   "outputs": [],
   "source": [
    "# Combining saved scrapes 1-33"
   ]
  },
  {
   "cell_type": "code",
   "execution_count": 3,
   "metadata": {},
   "outputs": [],
   "source": [
    "import glob"
   ]
  },
  {
   "cell_type": "code",
   "execution_count": 4,
   "metadata": {},
   "outputs": [],
   "source": [
    "dfs = []\n",
    "for file in glob.glob('scrape/*'):\n",
    "    dfs.append(pd.read_csv(file))"
   ]
  },
  {
   "cell_type": "code",
   "execution_count": 5,
   "metadata": {},
   "outputs": [],
   "source": [
    "fuller_df = pd.concat(dfs, ignore_index=True)"
   ]
  },
  {
   "cell_type": "code",
   "execution_count": 6,
   "metadata": {},
   "outputs": [],
   "source": [
    "fuller_df = fuller_df.drop_duplicates(keep='first')"
   ]
  },
  {
   "cell_type": "code",
   "execution_count": 7,
   "metadata": {},
   "outputs": [
    {
     "data": {
      "text/plain": [
       "(3785139, 8)"
      ]
     },
     "execution_count": 7,
     "metadata": {},
     "output_type": "execute_result"
    }
   ],
   "source": [
    "fuller_df.shape"
   ]
  },
  {
   "cell_type": "code",
   "execution_count": 8,
   "metadata": {},
   "outputs": [
    {
     "data": {
      "text/html": [
       "<div>\n",
       "<style scoped>\n",
       "    .dataframe tbody tr th:only-of-type {\n",
       "        vertical-align: middle;\n",
       "    }\n",
       "\n",
       "    .dataframe tbody tr th {\n",
       "        vertical-align: top;\n",
       "    }\n",
       "\n",
       "    .dataframe thead th {\n",
       "        text-align: right;\n",
       "    }\n",
       "</style>\n",
       "<table border=\"1\" class=\"dataframe\">\n",
       "  <thead>\n",
       "    <tr style=\"text-align: right;\">\n",
       "      <th></th>\n",
       "      <th>Unnamed: 0</th>\n",
       "      <th>question</th>\n",
       "      <th>summary</th>\n",
       "      <th>tags</th>\n",
       "      <th>time_stamp</th>\n",
       "      <th>user_id</th>\n",
       "      <th>no_of_votes</th>\n",
       "      <th>no_of_answers</th>\n",
       "    </tr>\n",
       "  </thead>\n",
       "  <tbody>\n",
       "    <tr>\n",
       "      <th>3785139</th>\n",
       "      <td>4995</td>\n",
       "      <td>API Auth failure causing iOS CredStore perform...</td>\n",
       "      <td>CredStore  - preformQuery = Error copying matc...</td>\n",
       "      <td>['ios', 'angularjs', 'rest', 'cordova', 'autho...</td>\n",
       "      <td>2019-07-12 13:08:20Z</td>\n",
       "      <td>rolinger</td>\n",
       "      <td>0.0</td>\n",
       "      <td>0.0</td>\n",
       "    </tr>\n",
       "    <tr>\n",
       "      <th>3785140</th>\n",
       "      <td>4996</td>\n",
       "      <td>How can I call a PHP function from another ser...</td>\n",
       "      <td>Is there a way that I can call a PHP function ...</td>\n",
       "      <td>['php']</td>\n",
       "      <td>2019-07-12 13:08:12Z</td>\n",
       "      <td>Delena Malan</td>\n",
       "      <td>0.0</td>\n",
       "      <td>3.0</td>\n",
       "    </tr>\n",
       "    <tr>\n",
       "      <th>3785141</th>\n",
       "      <td>4997</td>\n",
       "      <td>GDI handles in a DotNET application</td>\n",
       "      <td>My pure DotNET library runs as a plugin inside...</td>\n",
       "      <td>['.net', 'memory-leaks', 'count', 'gdi', 'hand...</td>\n",
       "      <td>2019-07-12 13:07:39Z</td>\n",
       "      <td>Glorfindel</td>\n",
       "      <td>6.0</td>\n",
       "      <td>7.0</td>\n",
       "    </tr>\n",
       "    <tr>\n",
       "      <th>3785142</th>\n",
       "      <td>4998</td>\n",
       "      <td>Single ErrorDocument directive to catch all er...</td>\n",
       "      <td>Is there something like a wildcard directive t...</td>\n",
       "      <td>['apache', '.htaccess', 'mod-rewrite', 'errord...</td>\n",
       "      <td>2019-07-12 13:07:29Z</td>\n",
       "      <td>ashleedawg</td>\n",
       "      <td>38.0</td>\n",
       "      <td>4.0</td>\n",
       "    </tr>\n",
       "    <tr>\n",
       "      <th>3785143</th>\n",
       "      <td>4999</td>\n",
       "      <td>Referencing .NET Core Class from .NET 4.7.2 file</td>\n",
       "      <td>I am trying to maintain an existing solution w...</td>\n",
       "      <td>['c#', '.net', '.net-core']</td>\n",
       "      <td>2019-07-12 13:07:27Z</td>\n",
       "      <td>BrianKE</td>\n",
       "      <td>0.0</td>\n",
       "      <td>0.0</td>\n",
       "    </tr>\n",
       "  </tbody>\n",
       "</table>\n",
       "</div>"
      ],
      "text/plain": [
       "        Unnamed: 0                                           question  \\\n",
       "3785139       4995  API Auth failure causing iOS CredStore perform...   \n",
       "3785140       4996  How can I call a PHP function from another ser...   \n",
       "3785141       4997                GDI handles in a DotNET application   \n",
       "3785142       4998  Single ErrorDocument directive to catch all er...   \n",
       "3785143       4999   Referencing .NET Core Class from .NET 4.7.2 file   \n",
       "\n",
       "                                                   summary  \\\n",
       "3785139  CredStore  - preformQuery = Error copying matc...   \n",
       "3785140  Is there a way that I can call a PHP function ...   \n",
       "3785141  My pure DotNET library runs as a plugin inside...   \n",
       "3785142  Is there something like a wildcard directive t...   \n",
       "3785143  I am trying to maintain an existing solution w...   \n",
       "\n",
       "                                                      tags  \\\n",
       "3785139  ['ios', 'angularjs', 'rest', 'cordova', 'autho...   \n",
       "3785140                                            ['php']   \n",
       "3785141  ['.net', 'memory-leaks', 'count', 'gdi', 'hand...   \n",
       "3785142  ['apache', '.htaccess', 'mod-rewrite', 'errord...   \n",
       "3785143                        ['c#', '.net', '.net-core']   \n",
       "\n",
       "                   time_stamp       user_id  no_of_votes  no_of_answers  \n",
       "3785139  2019-07-12 13:08:20Z      rolinger          0.0            0.0  \n",
       "3785140  2019-07-12 13:08:12Z  Delena Malan          0.0            3.0  \n",
       "3785141  2019-07-12 13:07:39Z    Glorfindel          6.0            7.0  \n",
       "3785142  2019-07-12 13:07:29Z    ashleedawg         38.0            4.0  \n",
       "3785143  2019-07-12 13:07:27Z       BrianKE          0.0            0.0  "
      ]
     },
     "execution_count": 8,
     "metadata": {},
     "output_type": "execute_result"
    }
   ],
   "source": [
    "fuller_df.tail()"
   ]
  },
  {
   "cell_type": "code",
   "execution_count": 9,
   "metadata": {},
   "outputs": [],
   "source": [
    "fuller_df = fuller_df.drop(columns = 'Unnamed: 0')"
   ]
  },
  {
   "cell_type": "code",
   "execution_count": 10,
   "metadata": {},
   "outputs": [],
   "source": [
    "fuller_df.to_csv('data/dataframe_051620.csv', index=False)"
   ]
  },
  {
   "cell_type": "code",
   "execution_count": 11,
   "metadata": {},
   "outputs": [],
   "source": [
    "# Importing StackOverflow Dataframe for Analysis"
   ]
  },
  {
   "cell_type": "code",
   "execution_count": 12,
   "metadata": {},
   "outputs": [],
   "source": [
    "fuller_df = pd.read_csv('data/dataframe_051620.csv')"
   ]
  },
  {
   "cell_type": "code",
   "execution_count": 13,
   "metadata": {},
   "outputs": [
    {
     "data": {
      "text/plain": [
       "(3785139, 7)"
      ]
     },
     "execution_count": 13,
     "metadata": {},
     "output_type": "execute_result"
    }
   ],
   "source": [
    "fuller_df.shape"
   ]
  },
  {
   "cell_type": "code",
   "execution_count": 14,
   "metadata": {},
   "outputs": [],
   "source": [
    "first_df = pd.read_csv('data/dataframe_051420.csv')"
   ]
  },
  {
   "cell_type": "code",
   "execution_count": 15,
   "metadata": {},
   "outputs": [
    {
     "data": {
      "text/plain": [
       "(2234408, 7)"
      ]
     },
     "execution_count": 15,
     "metadata": {},
     "output_type": "execute_result"
    }
   ],
   "source": [
    "first_df.shape"
   ]
  },
  {
   "cell_type": "code",
   "execution_count": 16,
   "metadata": {},
   "outputs": [],
   "source": [
    "new_data = pd.concat([first_df, fuller_df])"
   ]
  },
  {
   "cell_type": "code",
   "execution_count": 17,
   "metadata": {},
   "outputs": [
    {
     "data": {
      "text/plain": [
       "(6019547, 7)"
      ]
     },
     "execution_count": 17,
     "metadata": {},
     "output_type": "execute_result"
    }
   ],
   "source": [
    "new_data.shape"
   ]
  },
  {
   "cell_type": "code",
   "execution_count": 18,
   "metadata": {},
   "outputs": [
    {
     "data": {
      "text/html": [
       "<div>\n",
       "<style scoped>\n",
       "    .dataframe tbody tr th:only-of-type {\n",
       "        vertical-align: middle;\n",
       "    }\n",
       "\n",
       "    .dataframe tbody tr th {\n",
       "        vertical-align: top;\n",
       "    }\n",
       "\n",
       "    .dataframe thead th {\n",
       "        text-align: right;\n",
       "    }\n",
       "</style>\n",
       "<table border=\"1\" class=\"dataframe\">\n",
       "  <thead>\n",
       "    <tr style=\"text-align: right;\">\n",
       "      <th></th>\n",
       "      <th>question</th>\n",
       "      <th>summary</th>\n",
       "      <th>tags</th>\n",
       "      <th>time_stamp</th>\n",
       "      <th>user_id</th>\n",
       "      <th>no_of_votes</th>\n",
       "      <th>no_of_answers</th>\n",
       "    </tr>\n",
       "  </thead>\n",
       "  <tbody>\n",
       "    <tr>\n",
       "      <th>3785134</th>\n",
       "      <td>API Auth failure causing iOS CredStore perform...</td>\n",
       "      <td>CredStore  - preformQuery = Error copying matc...</td>\n",
       "      <td>['ios', 'angularjs', 'rest', 'cordova', 'autho...</td>\n",
       "      <td>2019-07-12 13:08:20Z</td>\n",
       "      <td>rolinger</td>\n",
       "      <td>0.0</td>\n",
       "      <td>0.0</td>\n",
       "    </tr>\n",
       "    <tr>\n",
       "      <th>3785135</th>\n",
       "      <td>How can I call a PHP function from another ser...</td>\n",
       "      <td>Is there a way that I can call a PHP function ...</td>\n",
       "      <td>['php']</td>\n",
       "      <td>2019-07-12 13:08:12Z</td>\n",
       "      <td>Delena Malan</td>\n",
       "      <td>0.0</td>\n",
       "      <td>3.0</td>\n",
       "    </tr>\n",
       "    <tr>\n",
       "      <th>3785136</th>\n",
       "      <td>GDI handles in a DotNET application</td>\n",
       "      <td>My pure DotNET library runs as a plugin inside...</td>\n",
       "      <td>['.net', 'memory-leaks', 'count', 'gdi', 'hand...</td>\n",
       "      <td>2019-07-12 13:07:39Z</td>\n",
       "      <td>Glorfindel</td>\n",
       "      <td>6.0</td>\n",
       "      <td>7.0</td>\n",
       "    </tr>\n",
       "    <tr>\n",
       "      <th>3785137</th>\n",
       "      <td>Single ErrorDocument directive to catch all er...</td>\n",
       "      <td>Is there something like a wildcard directive t...</td>\n",
       "      <td>['apache', '.htaccess', 'mod-rewrite', 'errord...</td>\n",
       "      <td>2019-07-12 13:07:29Z</td>\n",
       "      <td>ashleedawg</td>\n",
       "      <td>38.0</td>\n",
       "      <td>4.0</td>\n",
       "    </tr>\n",
       "    <tr>\n",
       "      <th>3785138</th>\n",
       "      <td>Referencing .NET Core Class from .NET 4.7.2 file</td>\n",
       "      <td>I am trying to maintain an existing solution w...</td>\n",
       "      <td>['c#', '.net', '.net-core']</td>\n",
       "      <td>2019-07-12 13:07:27Z</td>\n",
       "      <td>BrianKE</td>\n",
       "      <td>0.0</td>\n",
       "      <td>0.0</td>\n",
       "    </tr>\n",
       "  </tbody>\n",
       "</table>\n",
       "</div>"
      ],
      "text/plain": [
       "                                                  question  \\\n",
       "3785134  API Auth failure causing iOS CredStore perform...   \n",
       "3785135  How can I call a PHP function from another ser...   \n",
       "3785136                GDI handles in a DotNET application   \n",
       "3785137  Single ErrorDocument directive to catch all er...   \n",
       "3785138   Referencing .NET Core Class from .NET 4.7.2 file   \n",
       "\n",
       "                                                   summary  \\\n",
       "3785134  CredStore  - preformQuery = Error copying matc...   \n",
       "3785135  Is there a way that I can call a PHP function ...   \n",
       "3785136  My pure DotNET library runs as a plugin inside...   \n",
       "3785137  Is there something like a wildcard directive t...   \n",
       "3785138  I am trying to maintain an existing solution w...   \n",
       "\n",
       "                                                      tags  \\\n",
       "3785134  ['ios', 'angularjs', 'rest', 'cordova', 'autho...   \n",
       "3785135                                            ['php']   \n",
       "3785136  ['.net', 'memory-leaks', 'count', 'gdi', 'hand...   \n",
       "3785137  ['apache', '.htaccess', 'mod-rewrite', 'errord...   \n",
       "3785138                        ['c#', '.net', '.net-core']   \n",
       "\n",
       "                   time_stamp       user_id  no_of_votes  no_of_answers  \n",
       "3785134  2019-07-12 13:08:20Z      rolinger          0.0            0.0  \n",
       "3785135  2019-07-12 13:08:12Z  Delena Malan          0.0            3.0  \n",
       "3785136  2019-07-12 13:07:39Z    Glorfindel          6.0            7.0  \n",
       "3785137  2019-07-12 13:07:29Z    ashleedawg         38.0            4.0  \n",
       "3785138  2019-07-12 13:07:27Z       BrianKE          0.0            0.0  "
      ]
     },
     "execution_count": 18,
     "metadata": {},
     "output_type": "execute_result"
    }
   ],
   "source": [
    "new_data.tail()"
   ]
  },
  {
   "cell_type": "code",
   "execution_count": 19,
   "metadata": {},
   "outputs": [],
   "source": [
    "new_df = new_data.reset_index(drop=True)"
   ]
  },
  {
   "cell_type": "code",
   "execution_count": 20,
   "metadata": {},
   "outputs": [
    {
     "data": {
      "text/plain": [
       "False    6019289\n",
       "True         258\n",
       "Name: time_stamp, dtype: int64"
      ]
     },
     "execution_count": 20,
     "metadata": {},
     "output_type": "execute_result"
    }
   ],
   "source": [
    "new_df['time_stamp'].isna().value_counts()"
   ]
  },
  {
   "cell_type": "code",
   "execution_count": 21,
   "metadata": {},
   "outputs": [],
   "source": [
    "# Conditional drop -> Only drop rows with NaN values in the 'time_stamp' column\n",
    "dropped_nans = new_df.dropna(subset=['time_stamp'])"
   ]
  },
  {
   "cell_type": "code",
   "execution_count": 22,
   "metadata": {},
   "outputs": [
    {
     "data": {
      "text/plain": [
       "False    6019289\n",
       "Name: time_stamp, dtype: int64"
      ]
     },
     "execution_count": 22,
     "metadata": {},
     "output_type": "execute_result"
    }
   ],
   "source": [
    "dropped_nans['time_stamp'].isna().value_counts()"
   ]
  },
  {
   "cell_type": "code",
   "execution_count": 23,
   "metadata": {},
   "outputs": [],
   "source": [
    "new_df = new_df.dropna(subset=['time_stamp'])"
   ]
  },
  {
   "cell_type": "code",
   "execution_count": 24,
   "metadata": {},
   "outputs": [],
   "source": [
    "# Testing split by regex to isolate date from 'date_time' column\n",
    "time_stampy = '2020-04-25 21:54:31Z'"
   ]
  },
  {
   "cell_type": "code",
   "execution_count": 25,
   "metadata": {},
   "outputs": [
    {
     "data": {
      "text/plain": [
       "'2020-04-25'"
      ]
     },
     "execution_count": 25,
     "metadata": {},
     "output_type": "execute_result"
    }
   ],
   "source": [
    "import re\n",
    "\n",
    "re.split('\\s+', time_stampy)[0]\n"
   ]
  },
  {
   "cell_type": "code",
   "execution_count": 26,
   "metadata": {},
   "outputs": [],
   "source": [
    "# Making sure 'time_stamp' column only contains strings\n",
    "new_df['time_stamp'] = new_df['time_stamp'].astype(str)"
   ]
  },
  {
   "cell_type": "code",
   "execution_count": 27,
   "metadata": {},
   "outputs": [
    {
     "data": {
      "text/plain": [
       "<bound method NDFrame.describe of 0          2020-04-25 21:54:31Z\n",
       "1          2020-04-25 21:54:30Z\n",
       "2          2020-04-25 21:54:28Z\n",
       "3          2020-04-25 21:54:14Z\n",
       "4          2020-04-25 21:54:09Z\n",
       "                   ...         \n",
       "6019542    2019-07-12 13:08:20Z\n",
       "6019543    2019-07-12 13:08:12Z\n",
       "6019544    2019-07-12 13:07:39Z\n",
       "6019545    2019-07-12 13:07:29Z\n",
       "6019546    2019-07-12 13:07:27Z\n",
       "Name: time_stamp, Length: 6019289, dtype: object>"
      ]
     },
     "execution_count": 27,
     "metadata": {},
     "output_type": "execute_result"
    }
   ],
   "source": [
    "new_df['time_stamp'].describe"
   ]
  },
  {
   "cell_type": "code",
   "execution_count": 28,
   "metadata": {},
   "outputs": [],
   "source": [
    "# Apply function in combination with a lambda function since I can't pass a column through my simple regex split\n",
    "new_df['date'] = new_df['time_stamp'].apply(lambda x : re.split('\\s+', x)[0])"
   ]
  },
  {
   "cell_type": "code",
   "execution_count": 29,
   "metadata": {},
   "outputs": [
    {
     "data": {
      "text/html": [
       "<div>\n",
       "<style scoped>\n",
       "    .dataframe tbody tr th:only-of-type {\n",
       "        vertical-align: middle;\n",
       "    }\n",
       "\n",
       "    .dataframe tbody tr th {\n",
       "        vertical-align: top;\n",
       "    }\n",
       "\n",
       "    .dataframe thead th {\n",
       "        text-align: right;\n",
       "    }\n",
       "</style>\n",
       "<table border=\"1\" class=\"dataframe\">\n",
       "  <thead>\n",
       "    <tr style=\"text-align: right;\">\n",
       "      <th></th>\n",
       "      <th>question</th>\n",
       "      <th>summary</th>\n",
       "      <th>tags</th>\n",
       "      <th>time_stamp</th>\n",
       "      <th>user_id</th>\n",
       "      <th>no_of_votes</th>\n",
       "      <th>no_of_answers</th>\n",
       "      <th>date</th>\n",
       "    </tr>\n",
       "  </thead>\n",
       "  <tbody>\n",
       "    <tr>\n",
       "      <th>0</th>\n",
       "      <td>Connecting to Postgresql in a docker container...</td>\n",
       "      <td>I just started learning docker and I decided t...</td>\n",
       "      <td>['postgresql', 'docker']</td>\n",
       "      <td>2020-04-25 21:54:31Z</td>\n",
       "      <td>Zeitounator</td>\n",
       "      <td>1.0</td>\n",
       "      <td>1.0</td>\n",
       "      <td>2020-04-25</td>\n",
       "    </tr>\n",
       "    <tr>\n",
       "      <th>1</th>\n",
       "      <td>How to detect the element i clicked on from an...</td>\n",
       "      <td>I am trying to make this project where i have ...</td>\n",
       "      <td>['javascript', 'html']</td>\n",
       "      <td>2020-04-25 21:54:30Z</td>\n",
       "      <td>mateleco</td>\n",
       "      <td>1.0</td>\n",
       "      <td>3.0</td>\n",
       "      <td>2020-04-25</td>\n",
       "    </tr>\n",
       "    <tr>\n",
       "      <th>2</th>\n",
       "      <td>Angular : open sidenav with another component ...</td>\n",
       "      <td>I can not open a sidenav from another componen...</td>\n",
       "      <td>['angular', 'sidenav']</td>\n",
       "      <td>2020-04-25 21:54:28Z</td>\n",
       "      <td>Vugar Ahmadov</td>\n",
       "      <td>1.0</td>\n",
       "      <td>2.0</td>\n",
       "      <td>2020-04-25</td>\n",
       "    </tr>\n",
       "    <tr>\n",
       "      <th>3</th>\n",
       "      <td>Nginx timeout for websocket</td>\n",
       "      <td>I'm connecting a client with websocket through...</td>\n",
       "      <td>['nginx', 'asp.net-core', 'websocket', 'timeou...</td>\n",
       "      <td>2020-04-25 21:54:14Z</td>\n",
       "      <td>mkrieger1</td>\n",
       "      <td>0.0</td>\n",
       "      <td>0.0</td>\n",
       "      <td>2020-04-25</td>\n",
       "    </tr>\n",
       "    <tr>\n",
       "      <th>4</th>\n",
       "      <td>Change Tracking for TeraData</td>\n",
       "      <td>We need a way to know which rows changed in a ...</td>\n",
       "      <td>['etl', 'teradata', 'change-tracking']</td>\n",
       "      <td>2020-04-25 21:54:09Z</td>\n",
       "      <td>Techdeveloper</td>\n",
       "      <td>0.0</td>\n",
       "      <td>1.0</td>\n",
       "      <td>2020-04-25</td>\n",
       "    </tr>\n",
       "  </tbody>\n",
       "</table>\n",
       "</div>"
      ],
      "text/plain": [
       "                                            question  \\\n",
       "0  Connecting to Postgresql in a docker container...   \n",
       "1  How to detect the element i clicked on from an...   \n",
       "2  Angular : open sidenav with another component ...   \n",
       "3                        Nginx timeout for websocket   \n",
       "4                       Change Tracking for TeraData   \n",
       "\n",
       "                                             summary  \\\n",
       "0  I just started learning docker and I decided t...   \n",
       "1  I am trying to make this project where i have ...   \n",
       "2  I can not open a sidenav from another componen...   \n",
       "3  I'm connecting a client with websocket through...   \n",
       "4  We need a way to know which rows changed in a ...   \n",
       "\n",
       "                                                tags            time_stamp  \\\n",
       "0                           ['postgresql', 'docker']  2020-04-25 21:54:31Z   \n",
       "1                             ['javascript', 'html']  2020-04-25 21:54:30Z   \n",
       "2                             ['angular', 'sidenav']  2020-04-25 21:54:28Z   \n",
       "3  ['nginx', 'asp.net-core', 'websocket', 'timeou...  2020-04-25 21:54:14Z   \n",
       "4             ['etl', 'teradata', 'change-tracking']  2020-04-25 21:54:09Z   \n",
       "\n",
       "         user_id  no_of_votes  no_of_answers        date  \n",
       "0    Zeitounator          1.0            1.0  2020-04-25  \n",
       "1       mateleco          1.0            3.0  2020-04-25  \n",
       "2  Vugar Ahmadov          1.0            2.0  2020-04-25  \n",
       "3      mkrieger1          0.0            0.0  2020-04-25  \n",
       "4  Techdeveloper          0.0            1.0  2020-04-25  "
      ]
     },
     "execution_count": 29,
     "metadata": {},
     "output_type": "execute_result"
    }
   ],
   "source": [
    "new_df.head()"
   ]
  },
  {
   "cell_type": "code",
   "execution_count": 30,
   "metadata": {},
   "outputs": [],
   "source": [
    "# Converting the remaining 'date' column to datetime in order to work with it\n",
    "new_df['date'] = pd.to_datetime(new_df['date'], errors='coerce', format='%Y-%m-%d')"
   ]
  },
  {
   "cell_type": "code",
   "execution_count": 31,
   "metadata": {},
   "outputs": [
    {
     "name": "stdout",
     "output_type": "stream",
     "text": [
      "<class 'pandas.core.frame.DataFrame'>\n",
      "Int64Index: 6019289 entries, 0 to 6019546\n",
      "Data columns (total 8 columns):\n",
      " #   Column         Dtype         \n",
      "---  ------         -----         \n",
      " 0   question       object        \n",
      " 1   summary        object        \n",
      " 2   tags           object        \n",
      " 3   time_stamp     object        \n",
      " 4   user_id        object        \n",
      " 5   no_of_votes    float64       \n",
      " 6   no_of_answers  float64       \n",
      " 7   date           datetime64[ns]\n",
      "dtypes: datetime64[ns](1), float64(2), object(5)\n",
      "memory usage: 413.3+ MB\n"
     ]
    }
   ],
   "source": [
    "new_df.info()"
   ]
  },
  {
   "cell_type": "code",
   "execution_count": 32,
   "metadata": {},
   "outputs": [],
   "source": [
    "new_df = new_df.drop(columns=['time_stamp'])"
   ]
  },
  {
   "cell_type": "code",
   "execution_count": 33,
   "metadata": {},
   "outputs": [],
   "source": [
    "# Selecting only rows with dates in 2020\n",
    "analysis_2020 = new_df[new_df['date'] >= '2020-01-01']"
   ]
  },
  {
   "cell_type": "code",
   "execution_count": 34,
   "metadata": {},
   "outputs": [
    {
     "data": {
      "text/html": [
       "<div>\n",
       "<style scoped>\n",
       "    .dataframe tbody tr th:only-of-type {\n",
       "        vertical-align: middle;\n",
       "    }\n",
       "\n",
       "    .dataframe tbody tr th {\n",
       "        vertical-align: top;\n",
       "    }\n",
       "\n",
       "    .dataframe thead th {\n",
       "        text-align: right;\n",
       "    }\n",
       "</style>\n",
       "<table border=\"1\" class=\"dataframe\">\n",
       "  <thead>\n",
       "    <tr style=\"text-align: right;\">\n",
       "      <th></th>\n",
       "      <th>question</th>\n",
       "      <th>summary</th>\n",
       "      <th>tags</th>\n",
       "      <th>user_id</th>\n",
       "      <th>no_of_votes</th>\n",
       "      <th>no_of_answers</th>\n",
       "      <th>date</th>\n",
       "    </tr>\n",
       "  </thead>\n",
       "  <tbody>\n",
       "    <tr>\n",
       "      <th>0</th>\n",
       "      <td>Connecting to Postgresql in a docker container...</td>\n",
       "      <td>I just started learning docker and I decided t...</td>\n",
       "      <td>['postgresql', 'docker']</td>\n",
       "      <td>Zeitounator</td>\n",
       "      <td>1.0</td>\n",
       "      <td>1.0</td>\n",
       "      <td>2020-04-25</td>\n",
       "    </tr>\n",
       "    <tr>\n",
       "      <th>1</th>\n",
       "      <td>How to detect the element i clicked on from an...</td>\n",
       "      <td>I am trying to make this project where i have ...</td>\n",
       "      <td>['javascript', 'html']</td>\n",
       "      <td>mateleco</td>\n",
       "      <td>1.0</td>\n",
       "      <td>3.0</td>\n",
       "      <td>2020-04-25</td>\n",
       "    </tr>\n",
       "    <tr>\n",
       "      <th>2</th>\n",
       "      <td>Angular : open sidenav with another component ...</td>\n",
       "      <td>I can not open a sidenav from another componen...</td>\n",
       "      <td>['angular', 'sidenav']</td>\n",
       "      <td>Vugar Ahmadov</td>\n",
       "      <td>1.0</td>\n",
       "      <td>2.0</td>\n",
       "      <td>2020-04-25</td>\n",
       "    </tr>\n",
       "    <tr>\n",
       "      <th>3</th>\n",
       "      <td>Nginx timeout for websocket</td>\n",
       "      <td>I'm connecting a client with websocket through...</td>\n",
       "      <td>['nginx', 'asp.net-core', 'websocket', 'timeou...</td>\n",
       "      <td>mkrieger1</td>\n",
       "      <td>0.0</td>\n",
       "      <td>0.0</td>\n",
       "      <td>2020-04-25</td>\n",
       "    </tr>\n",
       "    <tr>\n",
       "      <th>4</th>\n",
       "      <td>Change Tracking for TeraData</td>\n",
       "      <td>We need a way to know which rows changed in a ...</td>\n",
       "      <td>['etl', 'teradata', 'change-tracking']</td>\n",
       "      <td>Techdeveloper</td>\n",
       "      <td>0.0</td>\n",
       "      <td>1.0</td>\n",
       "      <td>2020-04-25</td>\n",
       "    </tr>\n",
       "  </tbody>\n",
       "</table>\n",
       "</div>"
      ],
      "text/plain": [
       "                                            question  \\\n",
       "0  Connecting to Postgresql in a docker container...   \n",
       "1  How to detect the element i clicked on from an...   \n",
       "2  Angular : open sidenav with another component ...   \n",
       "3                        Nginx timeout for websocket   \n",
       "4                       Change Tracking for TeraData   \n",
       "\n",
       "                                             summary  \\\n",
       "0  I just started learning docker and I decided t...   \n",
       "1  I am trying to make this project where i have ...   \n",
       "2  I can not open a sidenav from another componen...   \n",
       "3  I'm connecting a client with websocket through...   \n",
       "4  We need a way to know which rows changed in a ...   \n",
       "\n",
       "                                                tags        user_id  \\\n",
       "0                           ['postgresql', 'docker']    Zeitounator   \n",
       "1                             ['javascript', 'html']       mateleco   \n",
       "2                             ['angular', 'sidenav']  Vugar Ahmadov   \n",
       "3  ['nginx', 'asp.net-core', 'websocket', 'timeou...      mkrieger1   \n",
       "4             ['etl', 'teradata', 'change-tracking']  Techdeveloper   \n",
       "\n",
       "   no_of_votes  no_of_answers       date  \n",
       "0          1.0            1.0 2020-04-25  \n",
       "1          1.0            3.0 2020-04-25  \n",
       "2          1.0            2.0 2020-04-25  \n",
       "3          0.0            0.0 2020-04-25  \n",
       "4          0.0            1.0 2020-04-25  "
      ]
     },
     "execution_count": 34,
     "metadata": {},
     "output_type": "execute_result"
    }
   ],
   "source": [
    "analysis_2020.head()"
   ]
  },
  {
   "cell_type": "code",
   "execution_count": 35,
   "metadata": {},
   "outputs": [
    {
     "data": {
      "text/plain": [
       "(1164420, 7)"
      ]
     },
     "execution_count": 35,
     "metadata": {},
     "output_type": "execute_result"
    }
   ],
   "source": [
    "analysis_2020.shape"
   ]
  },
  {
   "cell_type": "code",
   "execution_count": 36,
   "metadata": {},
   "outputs": [],
   "source": [
    "analysis_2019 = new_df[(new_df['date'] >= '2019-01-01') &  (new_df['date'] <= '2019-12-31')]"
   ]
  },
  {
   "cell_type": "code",
   "execution_count": 37,
   "metadata": {},
   "outputs": [
    {
     "data": {
      "text/plain": [
       "(2275118, 7)"
      ]
     },
     "execution_count": 37,
     "metadata": {},
     "output_type": "execute_result"
    }
   ],
   "source": [
    "analysis_2019.shape"
   ]
  },
  {
   "cell_type": "code",
   "execution_count": 38,
   "metadata": {},
   "outputs": [
    {
     "data": {
      "text/plain": [
       "(2140658, 7)"
      ]
     },
     "execution_count": 38,
     "metadata": {},
     "output_type": "execute_result"
    }
   ],
   "source": [
    "analysis_2018 = new_df[(new_df['date'] >= '2018-01-01') &  (new_df['date'] <= '2018-12-31')]\n",
    "analysis_2018.shape"
   ]
  },
  {
   "cell_type": "code",
   "execution_count": 39,
   "metadata": {},
   "outputs": [
    {
     "data": {
      "text/plain": [
       "(346476, 7)"
      ]
     },
     "execution_count": 39,
     "metadata": {},
     "output_type": "execute_result"
    }
   ],
   "source": [
    "analysis_2017 = new_df[(new_df['date'] >= '2017-01-01') &  (new_df['date'] <= '2017-12-31')]\n",
    "analysis_2017.shape"
   ]
  },
  {
   "cell_type": "code",
   "execution_count": 40,
   "metadata": {},
   "outputs": [
    {
     "data": {
      "text/plain": [
       "(2820, 7)"
      ]
     },
     "execution_count": 40,
     "metadata": {},
     "output_type": "execute_result"
    }
   ],
   "source": [
    "analysis_2016 = new_df[(new_df['date'] >= '2016-01-01') &  (new_df['date'] <= '2016-12-31')]\n",
    "analysis_2016.shape"
   ]
  },
  {
   "cell_type": "code",
   "execution_count": 41,
   "metadata": {},
   "outputs": [
    {
     "data": {
      "text/plain": [
       "(3908, 7)"
      ]
     },
     "execution_count": 41,
     "metadata": {},
     "output_type": "execute_result"
    }
   ],
   "source": [
    "analysis_2015 = new_df[(new_df['date'] >= '2015-01-01') &  (new_df['date'] <= '2015-12-31')]\n",
    "analysis_2015.shape"
   ]
  },
  {
   "cell_type": "code",
   "execution_count": 42,
   "metadata": {},
   "outputs": [
    {
     "data": {
      "text/plain": [
       "(5761, 7)"
      ]
     },
     "execution_count": 42,
     "metadata": {},
     "output_type": "execute_result"
    }
   ],
   "source": [
    "analysis_2014 = new_df[(new_df['date'] >= '2014-01-01') &  (new_df['date'] <= '2014-12-31')]\n",
    "analysis_2014.shape"
   ]
  },
  {
   "cell_type": "code",
   "execution_count": 73,
   "metadata": {},
   "outputs": [],
   "source": [
    "analysis_2020_tags = analysis_2020.loc[:, ['tags']]"
   ]
  },
  {
   "cell_type": "code",
   "execution_count": 74,
   "metadata": {},
   "outputs": [
    {
     "data": {
      "text/html": [
       "<div>\n",
       "<style scoped>\n",
       "    .dataframe tbody tr th:only-of-type {\n",
       "        vertical-align: middle;\n",
       "    }\n",
       "\n",
       "    .dataframe tbody tr th {\n",
       "        vertical-align: top;\n",
       "    }\n",
       "\n",
       "    .dataframe thead th {\n",
       "        text-align: right;\n",
       "    }\n",
       "</style>\n",
       "<table border=\"1\" class=\"dataframe\">\n",
       "  <thead>\n",
       "    <tr style=\"text-align: right;\">\n",
       "      <th></th>\n",
       "      <th>tags</th>\n",
       "    </tr>\n",
       "  </thead>\n",
       "  <tbody>\n",
       "    <tr>\n",
       "      <th>0</th>\n",
       "      <td>['postgresql', 'docker']</td>\n",
       "    </tr>\n",
       "    <tr>\n",
       "      <th>1</th>\n",
       "      <td>['javascript', 'html']</td>\n",
       "    </tr>\n",
       "    <tr>\n",
       "      <th>2</th>\n",
       "      <td>['angular', 'sidenav']</td>\n",
       "    </tr>\n",
       "    <tr>\n",
       "      <th>3</th>\n",
       "      <td>['nginx', 'asp.net-core', 'websocket', 'timeou...</td>\n",
       "    </tr>\n",
       "    <tr>\n",
       "      <th>4</th>\n",
       "      <td>['etl', 'teradata', 'change-tracking']</td>\n",
       "    </tr>\n",
       "  </tbody>\n",
       "</table>\n",
       "</div>"
      ],
      "text/plain": [
       "                                                tags\n",
       "0                           ['postgresql', 'docker']\n",
       "1                             ['javascript', 'html']\n",
       "2                             ['angular', 'sidenav']\n",
       "3  ['nginx', 'asp.net-core', 'websocket', 'timeou...\n",
       "4             ['etl', 'teradata', 'change-tracking']"
      ]
     },
     "execution_count": 74,
     "metadata": {},
     "output_type": "execute_result"
    }
   ],
   "source": [
    "analysis_2020_tags.head()"
   ]
  },
  {
   "cell_type": "code",
   "execution_count": 75,
   "metadata": {},
   "outputs": [],
   "source": [
    "head_2020 = analysis_2020_tags"
   ]
  },
  {
   "cell_type": "code",
   "execution_count": 76,
   "metadata": {},
   "outputs": [
    {
     "data": {
      "text/plain": [
       "array(['postgresql, docker', 'javascript, html', 'angular, sidenav', ...,\n",
       "       'r, loops, quantmod', 'html, css', 'python, pytest'], dtype=object)"
      ]
     },
     "execution_count": 76,
     "metadata": {},
     "output_type": "execute_result"
    }
   ],
   "source": [
    "head['tags'].values"
   ]
  },
  {
   "cell_type": "code",
   "execution_count": 77,
   "metadata": {},
   "outputs": [
    {
     "data": {
      "text/html": [
       "<div>\n",
       "<style scoped>\n",
       "    .dataframe tbody tr th:only-of-type {\n",
       "        vertical-align: middle;\n",
       "    }\n",
       "\n",
       "    .dataframe tbody tr th {\n",
       "        vertical-align: top;\n",
       "    }\n",
       "\n",
       "    .dataframe thead th {\n",
       "        text-align: right;\n",
       "    }\n",
       "</style>\n",
       "<table border=\"1\" class=\"dataframe\">\n",
       "  <thead>\n",
       "    <tr style=\"text-align: right;\">\n",
       "      <th></th>\n",
       "      <th>tags</th>\n",
       "    </tr>\n",
       "  </thead>\n",
       "  <tbody>\n",
       "    <tr>\n",
       "      <th>0</th>\n",
       "      <td>postgresql, docker</td>\n",
       "    </tr>\n",
       "    <tr>\n",
       "      <th>1</th>\n",
       "      <td>javascript, html</td>\n",
       "    </tr>\n",
       "    <tr>\n",
       "      <th>2</th>\n",
       "      <td>angular, sidenav</td>\n",
       "    </tr>\n",
       "    <tr>\n",
       "      <th>3</th>\n",
       "      <td>nginx, asp.net-core, websocket, timeout, nginx...</td>\n",
       "    </tr>\n",
       "    <tr>\n",
       "      <th>4</th>\n",
       "      <td>etl, teradata, change-tracking</td>\n",
       "    </tr>\n",
       "  </tbody>\n",
       "</table>\n",
       "</div>"
      ],
      "text/plain": [
       "                                                tags\n",
       "0                                 postgresql, docker\n",
       "1                                   javascript, html\n",
       "2                                   angular, sidenav\n",
       "3  nginx, asp.net-core, websocket, timeout, nginx...\n",
       "4                     etl, teradata, change-tracking"
      ]
     },
     "execution_count": 77,
     "metadata": {},
     "output_type": "execute_result"
    }
   ],
   "source": [
    "head.head()"
   ]
  },
  {
   "cell_type": "code",
   "execution_count": 78,
   "metadata": {},
   "outputs": [],
   "source": [
    "head_2020['tags'] = head['tags'].astype(str).str.replace('\\[|\\]|\\'', '')"
   ]
  },
  {
   "cell_type": "code",
   "execution_count": 79,
   "metadata": {},
   "outputs": [],
   "source": [
    "listed = (', ').join(head_2020['tags'])"
   ]
  },
  {
   "cell_type": "code",
   "execution_count": 80,
   "metadata": {},
   "outputs": [],
   "source": [
    "listed_list_2020 = listed.split(', ')"
   ]
  },
  {
   "cell_type": "code",
   "execution_count": 81,
   "metadata": {},
   "outputs": [],
   "source": [
    "from collections import Counter"
   ]
  },
  {
   "cell_type": "code",
   "execution_count": 82,
   "metadata": {},
   "outputs": [],
   "source": [
    "cnt_2020 = Counter(listed_list_2020)"
   ]
  },
  {
   "cell_type": "code",
   "execution_count": 83,
   "metadata": {},
   "outputs": [],
   "source": [
    "tags_common_2020 = cnt_2020.most_common()"
   ]
  },
  {
   "cell_type": "code",
   "execution_count": 84,
   "metadata": {},
   "outputs": [
    {
     "data": {
      "text/html": [
       "<div>\n",
       "<style scoped>\n",
       "    .dataframe tbody tr th:only-of-type {\n",
       "        vertical-align: middle;\n",
       "    }\n",
       "\n",
       "    .dataframe tbody tr th {\n",
       "        vertical-align: top;\n",
       "    }\n",
       "\n",
       "    .dataframe thead th {\n",
       "        text-align: right;\n",
       "    }\n",
       "</style>\n",
       "<table border=\"1\" class=\"dataframe\">\n",
       "  <thead>\n",
       "    <tr style=\"text-align: right;\">\n",
       "      <th></th>\n",
       "      <th>tag</th>\n",
       "      <th>count</th>\n",
       "    </tr>\n",
       "  </thead>\n",
       "  <tbody>\n",
       "    <tr>\n",
       "      <th>0</th>\n",
       "      <td>python</td>\n",
       "      <td>151741</td>\n",
       "    </tr>\n",
       "    <tr>\n",
       "      <th>1</th>\n",
       "      <td>javascript</td>\n",
       "      <td>118732</td>\n",
       "    </tr>\n",
       "    <tr>\n",
       "      <th>2</th>\n",
       "      <td>java</td>\n",
       "      <td>82022</td>\n",
       "    </tr>\n",
       "    <tr>\n",
       "      <th>3</th>\n",
       "      <td>android</td>\n",
       "      <td>60816</td>\n",
       "    </tr>\n",
       "    <tr>\n",
       "      <th>4</th>\n",
       "      <td>c#</td>\n",
       "      <td>57762</td>\n",
       "    </tr>\n",
       "    <tr>\n",
       "      <th>5</th>\n",
       "      <td>html</td>\n",
       "      <td>47036</td>\n",
       "    </tr>\n",
       "    <tr>\n",
       "      <th>6</th>\n",
       "      <td>php</td>\n",
       "      <td>45963</td>\n",
       "    </tr>\n",
       "    <tr>\n",
       "      <th>7</th>\n",
       "      <td>reactjs</td>\n",
       "      <td>41703</td>\n",
       "    </tr>\n",
       "    <tr>\n",
       "      <th>8</th>\n",
       "      <td>python-3.x</td>\n",
       "      <td>34140</td>\n",
       "    </tr>\n",
       "    <tr>\n",
       "      <th>9</th>\n",
       "      <td>node.js</td>\n",
       "      <td>33222</td>\n",
       "    </tr>\n",
       "    <tr>\n",
       "      <th>10</th>\n",
       "      <td>c++</td>\n",
       "      <td>30970</td>\n",
       "    </tr>\n",
       "    <tr>\n",
       "      <th>11</th>\n",
       "      <td>css</td>\n",
       "      <td>30815</td>\n",
       "    </tr>\n",
       "    <tr>\n",
       "      <th>12</th>\n",
       "      <td>r</td>\n",
       "      <td>30282</td>\n",
       "    </tr>\n",
       "    <tr>\n",
       "      <th>13</th>\n",
       "      <td>angular</td>\n",
       "      <td>28619</td>\n",
       "    </tr>\n",
       "    <tr>\n",
       "      <th>14</th>\n",
       "      <td>sql</td>\n",
       "      <td>26445</td>\n",
       "    </tr>\n",
       "    <tr>\n",
       "      <th>15</th>\n",
       "      <td>ios</td>\n",
       "      <td>23982</td>\n",
       "    </tr>\n",
       "    <tr>\n",
       "      <th>16</th>\n",
       "      <td>jquery</td>\n",
       "      <td>23616</td>\n",
       "    </tr>\n",
       "    <tr>\n",
       "      <th>17</th>\n",
       "      <td>pandas</td>\n",
       "      <td>23113</td>\n",
       "    </tr>\n",
       "    <tr>\n",
       "      <th>18</th>\n",
       "      <td>mysql</td>\n",
       "      <td>22887</td>\n",
       "    </tr>\n",
       "    <tr>\n",
       "      <th>19</th>\n",
       "      <td>swift</td>\n",
       "      <td>21609</td>\n",
       "    </tr>\n",
       "    <tr>\n",
       "      <th>20</th>\n",
       "      <td>django</td>\n",
       "      <td>20494</td>\n",
       "    </tr>\n",
       "    <tr>\n",
       "      <th>21</th>\n",
       "      <td>arrays</td>\n",
       "      <td>18422</td>\n",
       "    </tr>\n",
       "    <tr>\n",
       "      <th>22</th>\n",
       "      <td>flutter</td>\n",
       "      <td>17730</td>\n",
       "    </tr>\n",
       "    <tr>\n",
       "      <th>23</th>\n",
       "      <td>typescript</td>\n",
       "      <td>17547</td>\n",
       "    </tr>\n",
       "    <tr>\n",
       "      <th>24</th>\n",
       "      <td>json</td>\n",
       "      <td>17422</td>\n",
       "    </tr>\n",
       "  </tbody>\n",
       "</table>\n",
       "</div>"
      ],
      "text/plain": [
       "           tag   count\n",
       "0       python  151741\n",
       "1   javascript  118732\n",
       "2         java   82022\n",
       "3      android   60816\n",
       "4           c#   57762\n",
       "5         html   47036\n",
       "6          php   45963\n",
       "7      reactjs   41703\n",
       "8   python-3.x   34140\n",
       "9      node.js   33222\n",
       "10         c++   30970\n",
       "11         css   30815\n",
       "12           r   30282\n",
       "13     angular   28619\n",
       "14         sql   26445\n",
       "15         ios   23982\n",
       "16      jquery   23616\n",
       "17      pandas   23113\n",
       "18       mysql   22887\n",
       "19       swift   21609\n",
       "20      django   20494\n",
       "21      arrays   18422\n",
       "22     flutter   17730\n",
       "23  typescript   17547\n",
       "24        json   17422"
      ]
     },
     "execution_count": 84,
     "metadata": {},
     "output_type": "execute_result"
    }
   ],
   "source": [
    "tags_cnt_2020 = pd.DataFrame(tags_common_2020, columns=['tag', 'count'])\n",
    "tags_cnt_2020.head(25)"
   ]
  },
  {
   "cell_type": "code",
   "execution_count": 85,
   "metadata": {
    "scrolled": true
   },
   "outputs": [
    {
     "data": {
      "text/html": [
       "<div>\n",
       "<style scoped>\n",
       "    .dataframe tbody tr th:only-of-type {\n",
       "        vertical-align: middle;\n",
       "    }\n",
       "\n",
       "    .dataframe tbody tr th {\n",
       "        vertical-align: top;\n",
       "    }\n",
       "\n",
       "    .dataframe thead th {\n",
       "        text-align: right;\n",
       "    }\n",
       "</style>\n",
       "<table border=\"1\" class=\"dataframe\">\n",
       "  <thead>\n",
       "    <tr style=\"text-align: right;\">\n",
       "      <th></th>\n",
       "      <th>tag</th>\n",
       "      <th>count</th>\n",
       "    </tr>\n",
       "  </thead>\n",
       "  <tbody>\n",
       "    <tr>\n",
       "      <th>0</th>\n",
       "      <td>python</td>\n",
       "      <td>264418</td>\n",
       "    </tr>\n",
       "    <tr>\n",
       "      <th>1</th>\n",
       "      <td>javascript</td>\n",
       "      <td>229762</td>\n",
       "    </tr>\n",
       "    <tr>\n",
       "      <th>2</th>\n",
       "      <td>java</td>\n",
       "      <td>168077</td>\n",
       "    </tr>\n",
       "    <tr>\n",
       "      <th>3</th>\n",
       "      <td>c#</td>\n",
       "      <td>129811</td>\n",
       "    </tr>\n",
       "    <tr>\n",
       "      <th>4</th>\n",
       "      <td>android</td>\n",
       "      <td>123902</td>\n",
       "    </tr>\n",
       "    <tr>\n",
       "      <th>5</th>\n",
       "      <td>php</td>\n",
       "      <td>105044</td>\n",
       "    </tr>\n",
       "    <tr>\n",
       "      <th>6</th>\n",
       "      <td>html</td>\n",
       "      <td>95655</td>\n",
       "    </tr>\n",
       "    <tr>\n",
       "      <th>7</th>\n",
       "      <td>python-3.x</td>\n",
       "      <td>67018</td>\n",
       "    </tr>\n",
       "    <tr>\n",
       "      <th>8</th>\n",
       "      <td>reactjs</td>\n",
       "      <td>63974</td>\n",
       "    </tr>\n",
       "    <tr>\n",
       "      <th>9</th>\n",
       "      <td>css</td>\n",
       "      <td>63241</td>\n",
       "    </tr>\n",
       "    <tr>\n",
       "      <th>10</th>\n",
       "      <td>c++</td>\n",
       "      <td>61203</td>\n",
       "    </tr>\n",
       "    <tr>\n",
       "      <th>11</th>\n",
       "      <td>node.js</td>\n",
       "      <td>59539</td>\n",
       "    </tr>\n",
       "    <tr>\n",
       "      <th>12</th>\n",
       "      <td>r</td>\n",
       "      <td>58742</td>\n",
       "    </tr>\n",
       "    <tr>\n",
       "      <th>13</th>\n",
       "      <td>angular</td>\n",
       "      <td>58239</td>\n",
       "    </tr>\n",
       "    <tr>\n",
       "      <th>14</th>\n",
       "      <td>sql</td>\n",
       "      <td>55820</td>\n",
       "    </tr>\n",
       "    <tr>\n",
       "      <th>15</th>\n",
       "      <td>jquery</td>\n",
       "      <td>54103</td>\n",
       "    </tr>\n",
       "    <tr>\n",
       "      <th>16</th>\n",
       "      <td>ios</td>\n",
       "      <td>50255</td>\n",
       "    </tr>\n",
       "    <tr>\n",
       "      <th>17</th>\n",
       "      <td>mysql</td>\n",
       "      <td>48369</td>\n",
       "    </tr>\n",
       "    <tr>\n",
       "      <th>18</th>\n",
       "      <td>swift</td>\n",
       "      <td>42881</td>\n",
       "    </tr>\n",
       "    <tr>\n",
       "      <th>19</th>\n",
       "      <td>pandas</td>\n",
       "      <td>41186</td>\n",
       "    </tr>\n",
       "    <tr>\n",
       "      <th>20</th>\n",
       "      <td>arrays</td>\n",
       "      <td>35124</td>\n",
       "    </tr>\n",
       "    <tr>\n",
       "      <th>21</th>\n",
       "      <td>django</td>\n",
       "      <td>34815</td>\n",
       "    </tr>\n",
       "    <tr>\n",
       "      <th>22</th>\n",
       "      <td>json</td>\n",
       "      <td>33700</td>\n",
       "    </tr>\n",
       "    <tr>\n",
       "      <th>23</th>\n",
       "      <td>excel</td>\n",
       "      <td>32557</td>\n",
       "    </tr>\n",
       "    <tr>\n",
       "      <th>24</th>\n",
       "      <td>typescript</td>\n",
       "      <td>31963</td>\n",
       "    </tr>\n",
       "  </tbody>\n",
       "</table>\n",
       "</div>"
      ],
      "text/plain": [
       "           tag   count\n",
       "0       python  264418\n",
       "1   javascript  229762\n",
       "2         java  168077\n",
       "3           c#  129811\n",
       "4      android  123902\n",
       "5          php  105044\n",
       "6         html   95655\n",
       "7   python-3.x   67018\n",
       "8      reactjs   63974\n",
       "9          css   63241\n",
       "10         c++   61203\n",
       "11     node.js   59539\n",
       "12           r   58742\n",
       "13     angular   58239\n",
       "14         sql   55820\n",
       "15      jquery   54103\n",
       "16         ios   50255\n",
       "17       mysql   48369\n",
       "18       swift   42881\n",
       "19      pandas   41186\n",
       "20      arrays   35124\n",
       "21      django   34815\n",
       "22        json   33700\n",
       "23       excel   32557\n",
       "24  typescript   31963"
      ]
     },
     "execution_count": 85,
     "metadata": {},
     "output_type": "execute_result"
    }
   ],
   "source": [
    "analysis_2019_tags = analysis_2019.loc[:, ['tags']]\n",
    "analysis_2019_tags['tags'] = analysis_2019_tags['tags'].astype(str).str.replace('\\[|\\]|\\'', '')\n",
    "listed_2019 = (', ').join(analysis_2019_tags['tags'])\n",
    "listed_list_2019 = listed_2019.split(', ')\n",
    "cnt_2019 = Counter(listed_list_2019)\n",
    "tags_common_2019 = cnt_2019.most_common()\n",
    "tags_cnt_2019 = pd.DataFrame(tags_common_2019, columns=['tag', 'count'])\n",
    "tags_cnt_2019.head(25)"
   ]
  },
  {
   "cell_type": "code",
   "execution_count": 86,
   "metadata": {
    "scrolled": true
   },
   "outputs": [
    {
     "data": {
      "text/html": [
       "<div>\n",
       "<style scoped>\n",
       "    .dataframe tbody tr th:only-of-type {\n",
       "        vertical-align: middle;\n",
       "    }\n",
       "\n",
       "    .dataframe tbody tr th {\n",
       "        vertical-align: top;\n",
       "    }\n",
       "\n",
       "    .dataframe thead th {\n",
       "        text-align: right;\n",
       "    }\n",
       "</style>\n",
       "<table border=\"1\" class=\"dataframe\">\n",
       "  <thead>\n",
       "    <tr style=\"text-align: right;\">\n",
       "      <th></th>\n",
       "      <th>tag</th>\n",
       "      <th>count</th>\n",
       "    </tr>\n",
       "  </thead>\n",
       "  <tbody>\n",
       "    <tr>\n",
       "      <th>0</th>\n",
       "      <td>javascript</td>\n",
       "      <td>225863</td>\n",
       "    </tr>\n",
       "    <tr>\n",
       "      <th>1</th>\n",
       "      <td>python</td>\n",
       "      <td>217055</td>\n",
       "    </tr>\n",
       "    <tr>\n",
       "      <th>2</th>\n",
       "      <td>java</td>\n",
       "      <td>172071</td>\n",
       "    </tr>\n",
       "    <tr>\n",
       "      <th>3</th>\n",
       "      <td>c#</td>\n",
       "      <td>129292</td>\n",
       "    </tr>\n",
       "    <tr>\n",
       "      <th>4</th>\n",
       "      <td>android</td>\n",
       "      <td>128618</td>\n",
       "    </tr>\n",
       "    <tr>\n",
       "      <th>5</th>\n",
       "      <td>php</td>\n",
       "      <td>121668</td>\n",
       "    </tr>\n",
       "    <tr>\n",
       "      <th>6</th>\n",
       "      <td>html</td>\n",
       "      <td>99595</td>\n",
       "    </tr>\n",
       "    <tr>\n",
       "      <th>7</th>\n",
       "      <td>jquery</td>\n",
       "      <td>68080</td>\n",
       "    </tr>\n",
       "    <tr>\n",
       "      <th>8</th>\n",
       "      <td>css</td>\n",
       "      <td>66071</td>\n",
       "    </tr>\n",
       "    <tr>\n",
       "      <th>9</th>\n",
       "      <td>c++</td>\n",
       "      <td>62576</td>\n",
       "    </tr>\n",
       "    <tr>\n",
       "      <th>10</th>\n",
       "      <td>sql</td>\n",
       "      <td>58395</td>\n",
       "    </tr>\n",
       "    <tr>\n",
       "      <th>11</th>\n",
       "      <td>ios</td>\n",
       "      <td>56782</td>\n",
       "    </tr>\n",
       "    <tr>\n",
       "      <th>12</th>\n",
       "      <td>r</td>\n",
       "      <td>56710</td>\n",
       "    </tr>\n",
       "    <tr>\n",
       "      <th>13</th>\n",
       "      <td>mysql</td>\n",
       "      <td>54827</td>\n",
       "    </tr>\n",
       "    <tr>\n",
       "      <th>14</th>\n",
       "      <td>angular</td>\n",
       "      <td>53965</td>\n",
       "    </tr>\n",
       "    <tr>\n",
       "      <th>15</th>\n",
       "      <td>node.js</td>\n",
       "      <td>50980</td>\n",
       "    </tr>\n",
       "    <tr>\n",
       "      <th>16</th>\n",
       "      <td>python-3.x</td>\n",
       "      <td>48625</td>\n",
       "    </tr>\n",
       "    <tr>\n",
       "      <th>17</th>\n",
       "      <td>swift</td>\n",
       "      <td>45111</td>\n",
       "    </tr>\n",
       "    <tr>\n",
       "      <th>18</th>\n",
       "      <td>reactjs</td>\n",
       "      <td>44308</td>\n",
       "    </tr>\n",
       "    <tr>\n",
       "      <th>19</th>\n",
       "      <td>arrays</td>\n",
       "      <td>37165</td>\n",
       "    </tr>\n",
       "    <tr>\n",
       "      <th>20</th>\n",
       "      <td>json</td>\n",
       "      <td>34499</td>\n",
       "    </tr>\n",
       "    <tr>\n",
       "      <th>21</th>\n",
       "      <td>sql-server</td>\n",
       "      <td>32474</td>\n",
       "    </tr>\n",
       "    <tr>\n",
       "      <th>22</th>\n",
       "      <td>pandas</td>\n",
       "      <td>31168</td>\n",
       "    </tr>\n",
       "    <tr>\n",
       "      <th>23</th>\n",
       "      <td>c</td>\n",
       "      <td>30839</td>\n",
       "    </tr>\n",
       "    <tr>\n",
       "      <th>24</th>\n",
       "      <td>excel</td>\n",
       "      <td>29399</td>\n",
       "    </tr>\n",
       "  </tbody>\n",
       "</table>\n",
       "</div>"
      ],
      "text/plain": [
       "           tag   count\n",
       "0   javascript  225863\n",
       "1       python  217055\n",
       "2         java  172071\n",
       "3           c#  129292\n",
       "4      android  128618\n",
       "5          php  121668\n",
       "6         html   99595\n",
       "7       jquery   68080\n",
       "8          css   66071\n",
       "9          c++   62576\n",
       "10         sql   58395\n",
       "11         ios   56782\n",
       "12           r   56710\n",
       "13       mysql   54827\n",
       "14     angular   53965\n",
       "15     node.js   50980\n",
       "16  python-3.x   48625\n",
       "17       swift   45111\n",
       "18     reactjs   44308\n",
       "19      arrays   37165\n",
       "20        json   34499\n",
       "21  sql-server   32474\n",
       "22      pandas   31168\n",
       "23           c   30839\n",
       "24       excel   29399"
      ]
     },
     "execution_count": 86,
     "metadata": {},
     "output_type": "execute_result"
    }
   ],
   "source": [
    "analysis_2018_tags = analysis_2018.loc[:, ['tags']]\n",
    "analysis_2018_tags['tags'] = analysis_2018_tags['tags'].astype(str).str.replace('\\[|\\]|\\'', '')\n",
    "listed_2018 = (', ').join(analysis_2018_tags['tags'])\n",
    "listed_list_2018 = listed_2018.split(', ')\n",
    "cnt_2018 = Counter(listed_list_2018)\n",
    "tags_common_2018 = cnt_2018.most_common()\n",
    "tags_cnt_2018 = pd.DataFrame(tags_common_2018, columns=['tag', 'count'])\n",
    "tags_cnt_2018.head(25)"
   ]
  }
 ],
 "metadata": {
  "kernelspec": {
   "display_name": "Python 3",
   "language": "python",
   "name": "python3"
  },
  "language_info": {
   "codemirror_mode": {
    "name": "ipython",
    "version": 3
   },
   "file_extension": ".py",
   "mimetype": "text/x-python",
   "name": "python",
   "nbconvert_exporter": "python",
   "pygments_lexer": "ipython3",
   "version": "3.7.3"
  }
 },
 "nbformat": 4,
 "nbformat_minor": 2
}
